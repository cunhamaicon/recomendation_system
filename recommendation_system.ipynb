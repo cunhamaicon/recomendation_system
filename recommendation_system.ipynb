{
  "nbformat": 4,
  "nbformat_minor": 0,
  "metadata": {
    "colab": {
      "name": "recommendation_system.ipynb",
      "version": "0.3.2",
      "provenance": [],
      "collapsed_sections": [
        "lmcfJAMLdfuV",
        "NnXc04lkc7WI",
        "vw2emnFxDfpT",
        "U7vRPJOxK6Y0",
        "Yg8cYAFNNSQT",
        "03Ssy5GWeLed",
        "GSspZM-MevxU",
        "TR1JdVXAxIia",
        "Hx_yWwt3xMLa",
        "K42YBTmEGWLb",
        "-zL_QVohUyJo",
        "yh7Suy89fqJW",
        "-JNj4juESQM0",
        "eg2hRwHDSGf2",
        "x-fuUqiifB0v",
        "83q5g6fJIfNZ",
        "7Smcpil0Iswy",
        "B08yWUI2MfV2",
        "gR5bkmd3Mxt7",
        "8KjsQKC3OpdG",
        "z4WEfS3IPecF",
        "NirdLtq4QLbo",
        "pkkVCVZxQV3X",
        "EXiX7eGuRx6D",
        "fsnPIl0LTrpN",
        "O9C8RIEQVC6p",
        "cqJtNY4QX_DZ",
        "NAtslYGjYyKx",
        "pzMt9MOTZmqq",
        "IVL0i2yKb2qU",
        "sBecxg3mb8XU",
        "2mqZcZN7f8M4",
        "agkZny36ghXP",
        "JwfviIMBgb4z",
        "RqjJHoiNgnB_",
        "EXR_mT985UBG",
        "FCaRdL407Qet",
        "7ntqoojX7nbd",
        "UoqFnxUDVett",
        "TNWiMTYfY4-A",
        "4BjLc7FFtpKp",
        "8Etp0I4FlbTa",
        "arIxufhpmyPH",
        "snABPbHTgDWg"
      ],
      "include_colab_link": true
    },
    "kernelspec": {
      "name": "python3",
      "display_name": "Python 3"
    },
    "accelerator": "GPU"
  },
  "cells": [
    {
      "cell_type": "markdown",
      "metadata": {
        "id": "view-in-github",
        "colab_type": "text"
      },
      "source": [
        "<a href=\"https://colab.research.google.com/github/cunhamaicon/recomendation_system/blob/master/recommendation_system.ipynb\" target=\"_parent\"><img src=\"https://colab.research.google.com/assets/colab-badge.svg\" alt=\"Open In Colab\"/></a>"
      ]
    },
    {
      "cell_type": "markdown",
      "metadata": {
        "id": "SPWtEnYgcvKa",
        "colab_type": "text"
      },
      "source": [
        "#1. Introdução"
      ]
    },
    {
      "cell_type": "markdown",
      "metadata": {
        "id": "lmcfJAMLdfuV",
        "colab_type": "text"
      },
      "source": [
        "##Visão geral sobre sistemas de recomendação\n",
        "### Da criação a implementação de um algoritmo de recomendação inteiramente novo\n",
        "<br>\n",
        "\n",
        "**Autor: Maicon Henrique Cunha**\n",
        "\n",
        "**email: maiconhenrique@hotmail.com**\n",
        "\n",
        "**Github: [https://github.com/cunhamaicon](https://github.com/cunhamaicon/)**\n",
        "\n",
        "\n",
        "\n",
        "\n",
        "---\n",
        "\n",
        "\n",
        "\n",
        "\n",
        "Quando você escuta uma música que nunca tinha escutado pelo spotify por seu perfil ser notificado a ouvir algo de seu interesse. Quando você assiste um seriado/filme no netflix ou qualquer outro serviço de streaming, baseado em uma recomendação do serviço. Nesse exato momento você está sofrendo a ação de um algoritmo de recomendação. Esse algoritmo pode levar em conta estatística, matemática, redes neurais, etc. Pode ser criado das formas mais distintas possíveis com o objetivo simples de captar o perfil do usuário e expandir seu universo de conhecimento de música/filme ou qualquer outro  interesse de maneira adequada. Falaremos sobre esse tipo específico de algoritmo: algoritmos de recomendação.\n",
        "<br><br>\n",
        "  \n",
        "Em se tratando de algoritmos de recomendação é preciso medir quanto que um ou outro algoritmo é melhor ou pior,ou seja, como medir a precisão de um algoritmo de recomendação? Você já parou para se perguntar isso? Já encontrou alguma recomendação que não batia com o seu perfil nesses serviços que citei anteriormente? Pode acontecer. A resposta para essas e outras perguntas que irão surgir a medida que dissecarmos o problema da recomendação está um pouco mais adiante, e, talvez nem todas as perguntas tenham resposta!\n",
        "<br><br>\n",
        "\n",
        "\n",
        "Mostrarei de forma geral do que se trata o problema da recomendação e apresentarei uma abordagem já conhecida que se utiliza de auto-encoders, um tipo especial de rede neural. Porém, recomendação com auto-encoders não é o objetivo principal e não vou tomar muito do seu tempo nessa abordagem.  Baseado em uma observação simples construí um algoritmo de recomendação clássico inteiramente do zero, que pode ou não já ter semelhança com algum outro algoritmo existente, já que ainda não consegui ler sobre todos os algoritmos de recomendação existentes no mundo nesse instante e alguém pode ter pensado exatamente igual eu pensei. Pretendo mostrar o passo a passo do processo de criação desse algoritmo, sua implementação, bem como a sua aplicação em um banco de dados existente e sua precisão.\n",
        "<br><br>\n",
        "\n",
        "O banco de dados utilizado para teste foi o movielens com um milhão de avaliações de filmes retirado originalmente do site: [https://grouplens.org/datasets/movielens/](https://grouplens.org/datasets/movielens/). Porém, foi copiado para minha pasta do [github](https://github.com/cunhamaicon/recomendation_system) por questão de implementação. Apesar do banco de testes ser um banco de filmes e os exemplos seguirem esse modelo, nada impede a utilização do algoritmo proposto para outros fins.\n",
        "<br><br>\n",
        "\n",
        "\n",
        "O problema de criar um algoritmo inteiramente novo é desafiador, tanto pelo motivo de ter uma ideia original de algoritmo quanto pelo motivo de implementar e testar essa ideia. Além disso, será esse algoritmo suficientemente bom para ser aplicado na prática? Será que ele é melhor que os algoritmos já existentes? Será que a implementação é possível? Como fazer essa implementação? Será que o processo de recomendação leva muito tempo para ser executado? Pode um algoritmo clássico ser mais preciso do que um algoritmo que utiliza redes neurais? \n",
        "<br><br>\n",
        "\n",
        "\n",
        "Todo o código presente nesse trabalho foi feito em python e pode ser executado online através do site:  [https://colab.research.google.com](https://colab.research.google.com), sendo esse um dos diferenciais desse trabalho, a interatividade. Além disso recomendo a utilização do colab para leitura por propiciar a possibilidade de esconder assuntos por título com um clique e não poluir o texto.\n",
        "<br><br>\n",
        "\n",
        "Se você não conhece nada de programação em python mas deseja saber mais sobre sistemas de recomendação, esse trabalho é para você, basta pular as partes que achar difícil. Se você é expert em algoritmos de recomendação usando auto-encoders, esse trabalho também é para você, basta pular as partes que achar fácil. Se você é curioso e quer saber como criar um algoritmo do zero, esse trabalho também é para você, basta procurar o assunto de interesse, as dificuldades encontradas no processo e a minha solução para os problemas. Se você é expert em python, também é bem vindo, mas lembre-se, todo o código que mostrarei aqui para a implementação do algoritmo proposto é apenas um esboço do que poderá ser uma versão mais robusta do algoritmo.  \n",
        "<br><br>\n",
        "\n",
        "Opiniões e sugestões são bem vindas. Boa leitura!"
      ]
    },
    {
      "cell_type": "markdown",
      "metadata": {
        "id": "NnXc04lkc7WI",
        "colab_type": "text"
      },
      "source": [
        "#2. Objetivos do Trabalho"
      ]
    },
    {
      "cell_type": "markdown",
      "metadata": {
        "id": "HqFB4ADadjS6",
        "colab_type": "text"
      },
      "source": [
        "\n",
        "\n",
        "\n",
        "\n",
        "1.   Introduzir o tema algoritmos de recomendação\n",
        "2.   Explicar como medir a precisão de um algoritmo de recomendação\n",
        "3.  Explicar o que são dados de treinamento e teste para algoritmos de recomendação\n",
        "4. Apresentar os auto-encoders e mostrar a ideia que envolve a utilização dos mesmos para recomendação\n",
        "5. **Criar um algoritmo de receomendação inteiramente novo**\n",
        "6. Explicar os conceitos que envolvem o algoritmo de recomendação proposto\n",
        "7. Mostrar as dificuldades no processo de criação e implementação do algoritmo proposto\n",
        "8. **Implementar o algoritmo de recomedação proposto**\n",
        "9. **Testar o algoritmo de recomendação proposto**\n",
        "10. Apresentar as considerações finais e propostas de trabalhos futuros na área\n",
        "\n"
      ]
    },
    {
      "cell_type": "markdown",
      "metadata": {
        "id": "cE7kUmKxdnH7",
        "colab_type": "text"
      },
      "source": [
        "#3. O problema de recomendação"
      ]
    },
    {
      "cell_type": "markdown",
      "metadata": {
        "id": "vw2emnFxDfpT",
        "colab_type": "text"
      },
      "source": [
        "## Criando um arquivo simples de avaliações de usuários sobre filmes"
      ]
    },
    {
      "cell_type": "markdown",
      "metadata": {
        "id": "rvB30NonDqA3",
        "colab_type": "text"
      },
      "source": [
        "Utilizaremos o pandas para criar um arquivo simples de avaliações de usuários sobre filmes, bem menor que o encontrado no banco de dados que será utilizado, mas que será importante para visualizarmos o problema da recomendação. Esse exemplo segue o mesmo modelo do movielens, onde são dadas notas de um à cinco para os filmes.\n",
        "<br><br>\n",
        "\n",
        "Considere que cinco usuários avaliaram até sete filmes diferentes:\n",
        "<br><br>\n",
        "\n",
        "O \"usuário 1\" avaliou os filmes de códigos 2,3,4 e deu notas 4, 5 e 3 respectivamente.<br>\n",
        "O \"usuário 2\" avaliou os filmes de códigos 1,2,3,4 e deu notas 4,5,3,2 respectivamente.<br>\n",
        "O \"usuário 3\"  avaliou os filmes de códigos 1,2,3,4,5, e deu notas 3,2,5,5,5 respectivamente.<br>\n",
        "O \"usuário 4\" avaliou os filmes de códigos 1,2,3 e deu notas 2,3,3 respectivamente.<br>\n",
        "o \"usuário 5\" avaliou os filmes de códigos 4,7 e deu notas 4 e 5 respectivamente."
      ]
    },
    {
      "cell_type": "code",
      "metadata": {
        "id": "RBZRBr8XG93F",
        "colab_type": "code",
        "colab": {}
      },
      "source": [
        "import pandas as pd"
      ],
      "execution_count": 0,
      "outputs": []
    },
    {
      "cell_type": "code",
      "metadata": {
        "id": "QdpW4C80HDec",
        "colab_type": "code",
        "colab": {}
      },
      "source": [
        "avaliacoes = [[1,2,4], [1,3,5], [1,4,3],\n",
        "              [2,1,4], [2,2,5], [2,3,3], [2,4,2],\n",
        "              [3,1,3],[3,2,2],[3,3,5],[3,4,5],[3,5,5],\n",
        "              [4,1,2],[4,2,3],[4,3,3],\n",
        "              [5,4,4],[5,7,5]]"
      ],
      "execution_count": 0,
      "outputs": []
    },
    {
      "cell_type": "code",
      "metadata": {
        "id": "iBrb_i5fIAXW",
        "colab_type": "code",
        "colab": {}
      },
      "source": [
        "df_avaliacoes = pd.DataFrame(avaliacoes, columns = [\"Usuário\", \"Filme\", \"Nota\"])"
      ],
      "execution_count": 0,
      "outputs": []
    },
    {
      "cell_type": "markdown",
      "metadata": {
        "id": "X6gRBXrxIz5T",
        "colab_type": "text"
      },
      "source": [
        "Vamos dar uma olhada no objeto dataframe do pandas criado:"
      ]
    },
    {
      "cell_type": "code",
      "metadata": {
        "id": "LjOnwhFvI4Pz",
        "colab_type": "code",
        "outputId": "c9cf4382-7932-46ae-d130-1e3a54a42a1a",
        "colab": {
          "base_uri": "https://localhost:8080/",
          "height": 550
        }
      },
      "source": [
        "df_avaliacoes"
      ],
      "execution_count": 188,
      "outputs": [
        {
          "output_type": "execute_result",
          "data": {
            "text/html": [
              "<div>\n",
              "<style scoped>\n",
              "    .dataframe tbody tr th:only-of-type {\n",
              "        vertical-align: middle;\n",
              "    }\n",
              "\n",
              "    .dataframe tbody tr th {\n",
              "        vertical-align: top;\n",
              "    }\n",
              "\n",
              "    .dataframe thead th {\n",
              "        text-align: right;\n",
              "    }\n",
              "</style>\n",
              "<table border=\"1\" class=\"dataframe\">\n",
              "  <thead>\n",
              "    <tr style=\"text-align: right;\">\n",
              "      <th></th>\n",
              "      <th>Usuário</th>\n",
              "      <th>Filme</th>\n",
              "      <th>Nota</th>\n",
              "    </tr>\n",
              "  </thead>\n",
              "  <tbody>\n",
              "    <tr>\n",
              "      <th>0</th>\n",
              "      <td>1</td>\n",
              "      <td>2</td>\n",
              "      <td>4</td>\n",
              "    </tr>\n",
              "    <tr>\n",
              "      <th>1</th>\n",
              "      <td>1</td>\n",
              "      <td>3</td>\n",
              "      <td>5</td>\n",
              "    </tr>\n",
              "    <tr>\n",
              "      <th>2</th>\n",
              "      <td>1</td>\n",
              "      <td>4</td>\n",
              "      <td>3</td>\n",
              "    </tr>\n",
              "    <tr>\n",
              "      <th>3</th>\n",
              "      <td>2</td>\n",
              "      <td>1</td>\n",
              "      <td>4</td>\n",
              "    </tr>\n",
              "    <tr>\n",
              "      <th>4</th>\n",
              "      <td>2</td>\n",
              "      <td>2</td>\n",
              "      <td>5</td>\n",
              "    </tr>\n",
              "    <tr>\n",
              "      <th>5</th>\n",
              "      <td>2</td>\n",
              "      <td>3</td>\n",
              "      <td>3</td>\n",
              "    </tr>\n",
              "    <tr>\n",
              "      <th>6</th>\n",
              "      <td>2</td>\n",
              "      <td>4</td>\n",
              "      <td>2</td>\n",
              "    </tr>\n",
              "    <tr>\n",
              "      <th>7</th>\n",
              "      <td>3</td>\n",
              "      <td>1</td>\n",
              "      <td>3</td>\n",
              "    </tr>\n",
              "    <tr>\n",
              "      <th>8</th>\n",
              "      <td>3</td>\n",
              "      <td>2</td>\n",
              "      <td>2</td>\n",
              "    </tr>\n",
              "    <tr>\n",
              "      <th>9</th>\n",
              "      <td>3</td>\n",
              "      <td>3</td>\n",
              "      <td>5</td>\n",
              "    </tr>\n",
              "    <tr>\n",
              "      <th>10</th>\n",
              "      <td>3</td>\n",
              "      <td>4</td>\n",
              "      <td>5</td>\n",
              "    </tr>\n",
              "    <tr>\n",
              "      <th>11</th>\n",
              "      <td>3</td>\n",
              "      <td>5</td>\n",
              "      <td>5</td>\n",
              "    </tr>\n",
              "    <tr>\n",
              "      <th>12</th>\n",
              "      <td>4</td>\n",
              "      <td>1</td>\n",
              "      <td>2</td>\n",
              "    </tr>\n",
              "    <tr>\n",
              "      <th>13</th>\n",
              "      <td>4</td>\n",
              "      <td>2</td>\n",
              "      <td>3</td>\n",
              "    </tr>\n",
              "    <tr>\n",
              "      <th>14</th>\n",
              "      <td>4</td>\n",
              "      <td>3</td>\n",
              "      <td>3</td>\n",
              "    </tr>\n",
              "    <tr>\n",
              "      <th>15</th>\n",
              "      <td>5</td>\n",
              "      <td>4</td>\n",
              "      <td>4</td>\n",
              "    </tr>\n",
              "    <tr>\n",
              "      <th>16</th>\n",
              "      <td>5</td>\n",
              "      <td>7</td>\n",
              "      <td>5</td>\n",
              "    </tr>\n",
              "  </tbody>\n",
              "</table>\n",
              "</div>"
            ],
            "text/plain": [
              "    Usuário  Filme  Nota\n",
              "0         1      2     4\n",
              "1         1      3     5\n",
              "2         1      4     3\n",
              "3         2      1     4\n",
              "4         2      2     5\n",
              "5         2      3     3\n",
              "6         2      4     2\n",
              "7         3      1     3\n",
              "8         3      2     2\n",
              "9         3      3     5\n",
              "10        3      4     5\n",
              "11        3      5     5\n",
              "12        4      1     2\n",
              "13        4      2     3\n",
              "14        4      3     3\n",
              "15        5      4     4\n",
              "16        5      7     5"
            ]
          },
          "metadata": {
            "tags": []
          },
          "execution_count": 188
        }
      ]
    },
    {
      "cell_type": "markdown",
      "metadata": {
        "id": "IqDah50GJDFY",
        "colab_type": "text"
      },
      "source": [
        "Em geral os banco de dados que são utilizados para recomendação estão no formato acima, ou podem ser transformados nesse formato. Porém, essa não é a melhor maneira de utilizar um banco de dados de avaliações. O formato útil é criar uma matriz A do tipo Usuário x Filme (em inglês UxM), onde cada linha representa um usuário e cada coluna representa um filme. Sendo o valor do elemento $a_{ij}$ da matriz a avaliação do usuário i sobre o filme j. Você seria capaz de criar a matriz usuário x filmes  do exemplo anterior? Confira a resposta a seguir. No decorrer do texto todo falaremos sobre esse tipo específico de matriz."
      ]
    },
    {
      "cell_type": "markdown",
      "metadata": {
        "id": "U7vRPJOxK6Y0",
        "colab_type": "text"
      },
      "source": [
        "### Matrix UxM do exemplo:"
      ]
    },
    {
      "cell_type": "code",
      "metadata": {
        "id": "nctRcy60LNr_",
        "colab_type": "code",
        "colab": {}
      },
      "source": [
        "import numpy as np\n",
        "\n",
        "def create_uxm_matrix(dataframe,user,movie,rating):\n",
        "    \n",
        "    \"\"\"Dado um objeto pandas do tipo dataframe composto por avaliações\n",
        "    de usuários sobre filmes cujas colunas são user, movie e rating. Retorna\n",
        "    uma matriz do tipo Users x Movies (UxM), onde cada linha representa um \n",
        "    usuário e cada coluna um filme com a respectiva avaliação do usuário \n",
        "    sobre o filme. Para filmes não avaliados a nota é zeero. As demais \n",
        "    notas variam entre um e quatro. \"\"\"\n",
        "    \n",
        "    index_max_users = max(np.unique(dataframe.iloc[:,0].values))\n",
        "    index_max_movies = max(np.unique(dataframe.iloc[:,1].values))\n",
        "    uxm_matrix = np.zeros((index_max_users,index_max_movies))\n",
        "    \n",
        "    for id_user in range(1,index_max_users+1):\n",
        "    \n",
        "        movies_id = dataframe.loc[dataframe[user]==id_user][movie].values \n",
        "        ratings_id = dataframe.loc[dataframe[user]==id_user][rating].values    \n",
        "    \n",
        "        for id_movie in range(1,index_max_movies+1):\n",
        "        \n",
        "            if id_movie in movies_id:\n",
        "            \n",
        "                rating_user_movie = np.where(movies_id == id_movie)\n",
        "                uxm_matrix[id_user-1,id_movie-1]=ratings_id[rating_user_movie]\n",
        "    \n",
        "    return uxm_matrix"
      ],
      "execution_count": 0,
      "outputs": []
    },
    {
      "cell_type": "code",
      "metadata": {
        "id": "U_gGA412LghG",
        "colab_type": "code",
        "colab": {}
      },
      "source": [
        "A = create_uxm_matrix(df_avaliacoes,\"Usuário\",\"Filme\",\"Nota\")"
      ],
      "execution_count": 0,
      "outputs": []
    },
    {
      "cell_type": "code",
      "metadata": {
        "id": "isWA3cHrMFSb",
        "colab_type": "code",
        "outputId": "0be5390f-477a-4683-e557-1fe02d53e1da",
        "colab": {
          "base_uri": "https://localhost:8080/",
          "height": 101
        }
      },
      "source": [
        "print(A)"
      ],
      "execution_count": 190,
      "outputs": [
        {
          "output_type": "stream",
          "text": [
            "[[0. 4. 5. 3. 0. 0. 0.]\n",
            " [4. 5. 3. 2. 0. 0. 0.]\n",
            " [3. 2. 5. 5. 5. 0. 0.]\n",
            " [2. 3. 3. 0. 0. 0. 0.]\n",
            " [0. 0. 0. 4. 0. 0. 5.]]\n"
          ],
          "name": "stdout"
        }
      ]
    },
    {
      "cell_type": "markdown",
      "metadata": {
        "id": "Yg8cYAFNNSQT",
        "colab_type": "text"
      },
      "source": [
        "## Matriz UxM"
      ]
    },
    {
      "cell_type": "markdown",
      "metadata": {
        "id": "TwheM9cTNZ34",
        "colab_type": "text"
      },
      "source": [
        "Dado um conjunto de avaliações de usuários sobre filmes, uma matriz A do tipo UxM é aquela onde cada linha representa um usuário e cada coluna representa um filme. Sendo o valor do elemento  $a_{ij}$  da matriz a avaliação do usuário i sobre o filme j, como no exemplo:\n",
        "\n",
        "<br>\n",
        "\n",
        "![](https://github.com/cunhamaicon/recomendation_system/blob/master/img/matriz_exemplo.png?raw=true)\n"
      ]
    },
    {
      "cell_type": "markdown",
      "metadata": {
        "id": "WUFbr3ZnXwJ8",
        "colab_type": "text"
      },
      "source": [
        "Um algoritmo de recomendação é um programa que substitui os valores zero da matriz UxM com recomendações adequadas para cada usuário.\n",
        "<br><br>\n",
        "**Um algoritmo de recomendação é um algoritmo de completar tabelas!**"
      ]
    },
    {
      "cell_type": "markdown",
      "metadata": {
        "id": "03Ssy5GWeLed",
        "colab_type": "text"
      },
      "source": [
        "## Treinamento e Teste"
      ]
    },
    {
      "cell_type": "markdown",
      "metadata": {
        "id": "U_369F8BYGcB",
        "colab_type": "text"
      },
      "source": [
        "Para verificar a precisão de um algoritmo de recomendação são criadas duas matrizes novas a partir da matriz UxM original de um banco de avaliações. Onde uma parte das avaliações é utilizada para a construção do algoritmo e outra parte é utilizada para testar a precisão do algoritmo, você pode pensar como treinamento e teste se está acostumado com a linguagem de machine learning. Seguindo a matriz UxM do exemplo anterior  selecionei alguns dados para treinamento (em azul) e outros para teste ( em vermelho):\n",
        "<br>\n",
        "\n",
        "![alt text](https://github.com/cunhamaicon/recomendation_system/blob/master/img/uxm_train_test.png?raw=true)"
      ]
    },
    {
      "cell_type": "markdown",
      "metadata": {
        "id": "cAQR-Oq2bRCG",
        "colab_type": "text"
      },
      "source": [
        "Matriz de treinamento: <br>\n",
        "\n",
        "![alt text](https://github.com/cunhamaicon/recomendation_system/blob/master/img/uxm_train.png?raw=true)"
      ]
    },
    {
      "cell_type": "markdown",
      "metadata": {
        "id": "XUdc3TiAbaJN",
        "colab_type": "text"
      },
      "source": [
        "Matriz de teste:<br>\n",
        "\n",
        "![alt text](https://github.com/cunhamaicon/recomendation_system/blob/master/img/uxm_test.png?raw=true)"
      ]
    },
    {
      "cell_type": "markdown",
      "metadata": {
        "id": "FfZcsi61brYV",
        "colab_type": "text"
      },
      "source": [
        "Um algoritmo com 100% de precisão conseguiria prever dada uma matriz de treinamento separada do conjunto original a matriz exata de teste. Sendo esse o objetivo para esse tipo de algoritmo. É  um jogo de completar tabela, aquele algoritmo que completar com menor erro vence."
      ]
    },
    {
      "cell_type": "markdown",
      "metadata": {
        "id": "ct06Jjk_d6he",
        "colab_type": "text"
      },
      "source": [
        "##Auto-encoders e recomendação"
      ]
    },
    {
      "cell_type": "markdown",
      "metadata": {
        "id": "vxUbKID0W2Df",
        "colab_type": "text"
      },
      "source": [
        "Auto-encoders são um tipo específico de redes neurais com a seguinte estrutura:\n",
        "\n",
        "![alt text](https://github.com/cunhamaicon/recomendation_system/blob/master/img/autoencoder.png?raw=true)"
      ]
    },
    {
      "cell_type": "markdown",
      "metadata": {
        "id": "dXJdDnOnaPfC",
        "colab_type": "text"
      },
      "source": [
        "Primeiramente eles são simétricos e podem haver mais camadas intermediárias que a representada acima.\n",
        "<br><br>\n",
        "O treinamento de um auto-encoder consiste em apresentar um mesmo vetor na entrada e na saída da rede.  Realizar os procedimentos usuais de treinamento de uma rede neural. A entrada pode ser uma série temporal, uma imagem, um texto, literalmente qualquer coisa que se utilize de redes neurais. \n",
        "<br><br>\n",
        "Mas qual o objetivo de se apresentar um mesmo vetor na entrada e na saída de uma rede?\n",
        "<br><br>\n",
        "Existem alguns motivos como: compactação e extração de propriedades de um conjunto.\n",
        "<br><br>\n",
        "Um exemplo sobre compactação e auto-encoders você encontra [aqui](https://probablydance.com/2016/04/30/neural-networks-are-impressively-good-at-compression/).\n",
        "\n",
        "Como construir um auto-encoder utilizando o keras e mais exemplos você encontra [aqui](https://blog.keras.io/building-autoencoders-in-keras.html) . \n",
        "<br><br>\n",
        "Atualmente auto-encoders são utilizados para reconstrução de imagens com ruído de forma eficiente.\n",
        "<br><br>\n",
        "\n",
        "Para utilizar auto-encoders como um sistema de recomendação basta treinar uma rede específica. Depois de treinada essa rede passa a ser o sistema de recomendação.\n",
        "<br><br>\n",
        "\n",
        "Como auto-encoders são bons para extração de propriedades de conjuntos a ideia é apresentar as recomendações de usuários de um conjunto de treinamento na entrada e na saída da rede, treinando os neurônios para reproduzir a mesma avaliaçao da entrada na saída da rede. Feito isso quando for apresentado um conjunto novo de dados ela seria capaz de extrair as propriedades intrísecas dos usuários e reproduzir também os dados de teste, completando a tabela, como já discutido anteriormente.\n",
        "<br><br>\n",
        "\n",
        "Futuramente exibirei o passo a passo da implementação de um sistema de recomendação utilizando auto-encoders. \n",
        "<br><br>\n",
        "\n",
        "Os problemas de utilizar auto-encoders para fazer recomendação são os mesmo encontrados em uma rede neural comum. A tarefa de treinamento pode ser demorada, mas depois para fazer a previsão o processo é rápido.\n",
        "\n",
        "\n",
        "\n"
      ]
    },
    {
      "cell_type": "markdown",
      "metadata": {
        "id": "4rs7O_jPegQl",
        "colab_type": "text"
      },
      "source": [
        "## Ideia de um algoritmo clássico para o problema de recomendação\n",
        "\n",
        "\n",
        "\n"
      ]
    },
    {
      "cell_type": "markdown",
      "metadata": {
        "id": "NFs-FpRj5w7X",
        "colab_type": "text"
      },
      "source": [
        "Pense sobre a seguinte frase:\n",
        "<br><br>\n",
        "**\"Pessoas parecidas com um determinado perfil avaliam um determinado filme de forma semelhante.\"**\n",
        "<br><br>\n",
        "\n",
        "Você concorda com essa afirmação?<br><br>\n",
        "\n",
        "Eu concordo, e, criei um algoritmo de recomendação clássico inteiramente novo baseado apenas nisso. Para um determinado filme que um usuário não avaliou vou olhar para aqueles usuários que estão mais \"próximos\" do perfil buscado. E, recomendar esse filme de acordo com a avaliação desses outros usuários que estão \"próximos\". <br><br>\n",
        "\n",
        "Parece simples não é mesmo? Porém, o que siginfica ser \"próximo\" nesse contexto ? Como medir a distância entre dois usuários? Como atribuir a avaliação desses outro usuários próximos ao perfil desejado? Se ficou curioso não perca a próxima seção!"
      ]
    },
    {
      "cell_type": "markdown",
      "metadata": {
        "id": "GSspZM-MevxU",
        "colab_type": "text"
      },
      "source": [
        "# 4.Proposta de um algoritmo clássico para recomendação"
      ]
    },
    {
      "cell_type": "markdown",
      "metadata": {
        "id": "TR1JdVXAxIia",
        "colab_type": "text"
      },
      "source": [
        "## Introdução"
      ]
    },
    {
      "cell_type": "markdown",
      "metadata": {
        "id": "bVZN0eN_jr3z",
        "colab_type": "text"
      },
      "source": [
        "A criação desse algoritmo de recomendação é baseada na ideia de que usuários com perfil parecido avaliam os filmes de forma semelhante e que assim se um usuário não avaliou determinado filme, o algoritmo proposto vai sugerir uma avaliação baseada nas  avaliações dos demais usuários que estão próximos a esse perfil. Antes de discutir os detalhes desse algoritmo preste atenção na seguinte imagem, onde M representa todos os filmes que um usuário poderia avaliar. Em azul estão selecionados os filmes que ele realmente avaliou e em vermelho estão selecionados os filmes que ele não avaliou (aqueles que são passíveis de recomendação). <br><br>\n",
        "![alt text](https://github.com/cunhamaicon/recomendation_system/blob/master/img/algoritmo_exemplo.png?raw=true)"
      ]
    },
    {
      "cell_type": "markdown",
      "metadata": {
        "id": "-oZOc11IrCDx",
        "colab_type": "text"
      },
      "source": [
        "G1 representa os filmes avaliados em comum com um grupo de usuários que está digamos entre os 10% mais próximos do usuário selecionado.<br>\n",
        "\n",
        "G2 representa os filmes avaliados em comum com um grupo de usuários que está digamos entre os 20% mais próximos do usuário selecionado.<br><br>\n",
        "\n",
        "Tente responder as seguintes perguntas:\n",
        "\n",
        "1. Qual grupo você levaria em consideração para recomendar o filme M3 ao usuário? Repare que M3 está tanto em G1 como em G2.<br>\n",
        "2. Qual grupo você levaria em consideração para recomendar o filme M5 ao usuário?<br>\n",
        "\n",
        "3. Existe algum grupo possível para utilizar como recomendação do filme M7? <br>\n",
        "4. Qual medida você utilizaria para utilizar como recomendação? <br><br>\n",
        "\n",
        "Minhas resposta para essas perguntas são:\n",
        "\n",
        "\n",
        "\n",
        "1.   Utilizar as avaliações do grupo G1 sobre o filme M3 como parâmetro para recomendar ao usuário, dado que o grupo G1 está mais próximo do perfil do usuário (10% < 20%).\n",
        "2.   Utilizar as avaliações do grupo G2 sobre o filme M5 como parâmetro para recomendar ao usuário.\n",
        "3. Utilizar algum outro parâmetro encontrado no banco todo, não somente nos grupos próximos para recomendar o filme M7.\n",
        "4. Como já investiguei o banco de dados movielens, mas isso provavelmente é uma característica geral de qualquer banco de avaliações, percebi que tanto a média como a mediana são bons pontos de partida para  se fazer uma recomendação. Assim utilizaria a média de G1 sobre M3 para recomendar ao usuário o filme M3. A média de G2 sobre M5 para recomendar ao usuário o filme M5 e a média do banco todo sobre M7 para recomendar ao usuário o filme M7.\n",
        "<br><br>\n",
        "\n",
        "Suas respostas foram parecidas?\n",
        "<br><br>\n",
        "\n",
        "Perceba que nesse simples exemplo construímos uma espécie de filtro que começa pequeno e vai aumentando. De um grupo mais próximo para outro, e outro e por último olhamos para o banco todo.  Baseado em vários experimentos, essa solução aparentemente simples funcionou. Mas calma, nós não sabemo ainda nem comparar quando dois usuários estão próximos e isso é de fundamental importância.\n"
      ]
    },
    {
      "cell_type": "markdown",
      "metadata": {
        "id": "Hx_yWwt3xMLa",
        "colab_type": "text"
      },
      "source": [
        "## Calculando a distância entre dois usuários "
      ]
    },
    {
      "cell_type": "markdown",
      "metadata": {
        "id": "Xpd915B3xYq7",
        "colab_type": "text"
      },
      "source": [
        "Existem alguns problemas para comparar usuários e determinar a distância entre eles dada uma matriz do tipo UxM:\n",
        "\n",
        "1.   Número diferente de avaliações por usuário, alguns com pouquíssimas avaliações e outros com muitas;\n",
        "2.   Para valores onde a matriz UxM é zero não houve avaliação alguma, portanto não faz sentido levar em consideração onde o usuário avaliou com zero para determinar a distância.\n",
        "\n",
        "Vejamos alguns exemplos:\n",
        "<br><br>\n",
        "\n",
        "Considere os seguintes vetores:\n",
        "\n",
        "\n",
        "$\\vec{v} = (1,3,0, 4)$ , $\\vec{w} = (1,3,0, 0)$ e  $\\vec{r} = (2,3,0, 3)$\n",
        "\n",
        "<br>\n",
        "A distância euclidiana entre $\\vec{v}$ e $\\vec{w}$, $d(v,w) = \\sqrt{(1-1)^2 + (3-3)^2 + (0-0)^2 + (4-0)^2} = 2$\n",
        "<br><br>\n",
        "A distância euclidiana entre $\\vec{v}$ e $\\vec{r}$, $d(v,r) = \\sqrt{(2-1)^2 + (3-3)^2 + (0-0)^2 + (3-4)^2} = 1.4$\n",
        "\n",
        "<br><br>\n",
        "\n",
        "Do ponto de vista da geometria euclidiana $\\vec{r} $ está mais próximo de $\\vec{v} $ que $\\vec{w} $ está. Agora, considere que esses vetores são avaliações de usuários sobre filmes. Faz sentido utilizar essa distância? Obviamente não pois $\\vec{w} $ bateu exatamente com as avaliações de $\\vec{v} $ nas duas primeiras posições e deveria estar mais próximo.\n",
        "<br><br>\n",
        "Para contornar esse problema da distância no algoritmo proposto, primeiramente determino um número mínimo de avaliações em comum para comparar dois usuários, caso esse número não seja atingido não posso nem comparar dois usuários. Em seguida calculo a distância apenas onde os dois vetores são não nulos, ou seja, apenas onde os usuários possuem avaliações em comum.\n",
        "<br><br>\n",
        "\n",
        "No exemplo citado anteriormente o cálculo dessa nova distância resultaria em:\n",
        "<br><br>\n",
        "\n",
        "A distância nova entre $\\vec{v}$ e $\\vec{w}$, $d(v,w) = \\sqrt{(1-1)^2 + (3-3)^2 } = 0$\n",
        "<br><br>\n",
        "A distância nova entre $\\vec{v}$ e $\\vec{r}$, $d(v,r) = \\sqrt{(2-1)^2 + (3-3)^2 +  (3-4)^2} = 1.4$\n",
        "<br><br>\n",
        "\n",
        "\n",
        "Com essa nova distância proposta verificamos que $\\vec{w} $ está mais próximo de $\\vec{v} $, o que era esperado para o problema em questão. \n",
        "<br><br>\n",
        "\n",
        "Essa função distância e outras necessárias para a execução do algoritmo foram feitas em python e pode ser encontradas na seção \"Programação\" com mais detalhes. A partir desse momento sempre que mencionar distância entre usuários estarei mencionando essa distância específica e não a distância usual.\n"
      ]
    },
    {
      "cell_type": "markdown",
      "metadata": {
        "id": "K42YBTmEGWLb",
        "colab_type": "text"
      },
      "source": [
        "## O problema da negligência"
      ]
    },
    {
      "cell_type": "markdown",
      "metadata": {
        "id": "MFgeu4CRGuey",
        "colab_type": "text"
      },
      "source": [
        "Olhando ainda para a figura:\n",
        "\n",
        "![alt text](https://github.com/cunhamaicon/recomendation_system/blob/master/img/algoritmo_exemplo.png?raw=true)\n",
        "\n",
        "Com já discutido anteriormente minha solução para recomendar o filme M3 ao usuário foi utilizar a média das recomendações do grupo G1. Porém, mesmo com o grupo G1 considerado sendo os 10% mais próximos , a quantidade de usuários de G1 pode variar bastante, assim como a quantidade de usuários em G1 que avaliou o filme M3. \n",
        "<br><br>\n",
        "\n",
        "Suponha que dentro de G1 apenas um único usuário tenha avaliado o filme M3 em um momento de desatenção e tenha dado uma avaliação \"errada\". Como só existe uma avaliação de M3, a média é essa própria avaliação e caso esse valor seja utilizado para recomendação ele provavelmente vai provocar um erro no processo. Por isso faz sentido exigir um número mínimo de avaliações dentro de um grupo para que um filme tenha sua recomendação realizada ao usuário. \n",
        "<br><br>\n",
        "\n",
        "Nos testes que serão feitos posteriormente eu considerei três um número mínimo para calcular a média e recomendar o filme, mas isso pode depender do banco de dados utilizado, ou do objetivo da recomendação. A ideia que envolve utilizar esse parâmetro mínimo é evitar esses erros de negligência, ou ao menos diminuir o impacto deles na recomendação.\n"
      ]
    },
    {
      "cell_type": "markdown",
      "metadata": {
        "id": "-zL_QVohUyJo",
        "colab_type": "text"
      },
      "source": [
        "## O problema da média/mediana"
      ]
    },
    {
      "cell_type": "markdown",
      "metadata": {
        "id": "g3jzbfmoU5lD",
        "colab_type": "text"
      },
      "source": [
        "Considere os seguintes vetores já observados quando falamos sobre o problema da distância entre dois usuários:\n",
        "<br><br>\n",
        "$\\vec{v} = (1,3,0, 4)$ , $\\vec{w} = (1,3,0, 0)$ e  $\\vec{r} = (2,3,0, 3)$\n",
        "<br><br>\n",
        "\n",
        "Suponha que você queira obter a média em cada posição dos vetores acima. Temos:\n",
        "<br><br>\n",
        "\n",
        "média $(\\vec{v}, \\vec{w}, \\vec{r})$ = (1+1+1,3+3+3,0+0+0,4+0+3)/3 = (1,3,2.3)\n",
        "<br><br>\n",
        "\n",
        "Porém levando em consideração que cada um desses vetores são avaliações de usuários sobre filmes, não faz muito sentido falar que 2.3 representa a média das avaliações da última posição. Para contornar esse problema vou considerar a média apenas onde foi feita avaliação, ou seja, apenas onde os valores são maiores que zero. Nesse caso o novo cálculo da média se torna: \n",
        "<br><br>\n",
        "média $(\\vec{v}, \\vec{w}, \\vec{r})$ = ((1+1+1)/3,(3+3+3)/3,0,(4+3)/2 = (1,3,3.5)\n",
        "<br><br>\n",
        "Que para esse problema faz mais sentido. Portanto, a partir de agora sempre que ouvir \"média\" é sobre essa operação que estamos falando.\n",
        "<br><br>\n",
        "Detalhes da implementação dessa função podem ser encontrados na seção \"Programação\".\n",
        "<br><br>\n",
        "\n",
        "Obs: o mesmo tipo de observação vale caso você queira considerar a mediana em detrimento da média."
      ]
    },
    {
      "cell_type": "markdown",
      "metadata": {
        "id": "6QGw_2AKAvm1",
        "colab_type": "text"
      },
      "source": [
        "Como um segundo exemplo vamos calcular a média proposta da seguinte matriz:\n",
        "\n",
        "![](https://github.com/cunhamaicon/recomendation_system/blob/master/img/matriz_exemplo.png?raw=true)\n",
        "\n"
      ]
    },
    {
      "cell_type": "markdown",
      "metadata": {
        "id": "Qz2d2l6DBGI-",
        "colab_type": "text"
      },
      "source": [
        "Média = [3, 3.5 , 4, 3.5, 5, 0, 5]"
      ]
    },
    {
      "cell_type": "markdown",
      "metadata": {
        "id": "yh7Suy89fqJW",
        "colab_type": "text"
      },
      "source": [
        "## Algoritmo de recomendação proposto "
      ]
    },
    {
      "cell_type": "markdown",
      "metadata": {
        "id": "2fdlpwzIJ-tI",
        "colab_type": "text"
      },
      "source": [
        "Considere um banco de dados de avaliações de usuários sobre filmes. Segue o Algoritmo de recomendação proposto:\n",
        "\n",
        "\n",
        "---\n",
        "\n",
        "\n",
        "Variáveis:\n",
        "\n",
        "$X$: usuário\n",
        "\n",
        "$m_X$: lista de filmes avaliados por $X$\n",
        "\n",
        "$n$: número de grupos/filtros\n",
        "\n",
        "$nmin$: número de filmes em comum para comparar dois usuários\n",
        "\n",
        "$nmingrupo$: número de mínimo de filmes em uma lista de usuários para um determinado filme sofrer a ação de recomendação do grupo  \n",
        "\n",
        "---\n",
        "\n",
        "\n",
        "\n",
        "Início:\n",
        "\n",
        ">Selecione um usuário $X$ e sua lista $m_X$ de filmes já avaliados .\n",
        "\n",
        ">Determine uma lista $L$ contendo todos os usuários desse banco com $nmin$ avaliações em comum com $X$. \n",
        "\n",
        ">Ordene a lista $L$ de acordo com a distância de cada usuário em $L$ com $X$, do mais próximo para o mais afastado.\n",
        "\n",
        ">Considere $t :$ tamanho da lista $L$ \n",
        "\n",
        ">Construa $n$ novas listas a partir de $L$ denominadas $L_1, L_2, L_3,..., L_n$ até os índices $t_1, t_2, t_3,...,t_n$ de $ L$ , com $t_1<t_2<t_3<... < t_n<t$ . \n",
        "\n",
        ">Para cada lista $L_i$ determine uma lista de filmes $m_i$ com um número mínimo $nmingrupo$ de avaliações em $L_i$.\n",
        "\n",
        ">Para cada par $\\{L_i, m_i\\}$ construa a recomendação $r_i$ dos filmes em $m_i$\n",
        " a partir da média dos filmes em $m_i$ no grupo $L_i$. \n",
        " \n",
        ">Considere $m*$ a média de todos os filmes avaliados no banco.\n",
        "\n",
        ">Para filme no banco e usuário $X$:\n",
        "\n",
        ">>Se filme está em $m_X$:  \n",
        "      \n",
        ">>>retorne a própria avaliação de $X$ sobre filme\n",
        "      \n",
        ">>>vai para o próximo filme\n",
        "            \n",
        ">>Senão:\n",
        ">>>Para $i$ indo de  $1$até $n:$\n",
        "      \n",
        ">>>>Se filme está em $m_i$:\n",
        "      \n",
        ">>>>>retorna a avaliação de filme dada por $r_i$\n",
        "      \n",
        ">>>>>vai para o próximo filme\n",
        "      \n",
        ">>Senão :\n",
        "      \n",
        ">>>retorna a avalição de filme dada por $m*$\n",
        "      \n",
        " >>>vai para o próximo filme. \n",
        "\n",
        "\n",
        "Fim\n",
        "\n",
        "\n",
        "---\n",
        "\n"
      ]
    },
    {
      "cell_type": "markdown",
      "metadata": {
        "id": "-JNj4juESQM0",
        "colab_type": "text"
      },
      "source": [
        "###Observações:"
      ]
    },
    {
      "cell_type": "markdown",
      "metadata": {
        "id": "DgvZ6YMoQYUU",
        "colab_type": "text"
      },
      "source": [
        "1. A \"distância\" considerada nesse algoritmo foi discutida anteriormente. Assim como a \"média\". Que não são média e distância usuais. \n",
        "2.   Esse é um algoritmo geral, para exemplificar e implementar o algoritmo considerei apenas três grupos diferentes, n = 3.\n",
        "3. O algoritmo faz a avaliação apenas para um usuário. Para avaliar o banco inteiro é necessário repetir o processo para os demais usuários\n",
        "\n",
        "\n"
      ]
    },
    {
      "cell_type": "markdown",
      "metadata": {
        "id": "eg2hRwHDSGf2",
        "colab_type": "text"
      },
      "source": [
        "### Explicando o algoritmo"
      ]
    },
    {
      "cell_type": "markdown",
      "metadata": {
        "id": "CVFoGwazSTSb",
        "colab_type": "text"
      },
      "source": [
        "Primeiramente temos que definir um parâmetro mínimo de comparação entre dois usuários ($nmin$) e dado um usuário selecionar todos os demais que possuem esse número mínimo de avaliações em comum, armazenando esses usuários na lista $L$. Esse valor depende do banco avaliado, do número mínimo de avaliações que um usuário qualquer do banco possui. Com um valor muito pequeno de $nmin$ pode não ser possível captar a essência do algoritmo que é buscar perfis semelhantes, já um valor muito alto pode limitar o número de usuários a ponto de não ser possível extrair informações dos grupos formados. \n",
        "<br><br>\n",
        "Entendido o que é a lista $L$ é preciso comparar os usuários de $L$ com $X$, para isso será utilizada uma distância entre $L$ e $X$. Ordenando assim a lista $L$ de acordo com o grau de proximidade com $X$, do mais próximo para o mais afastado.\n",
        "<br><br>\n",
        "  \n",
        "Para simplificar vou pegar um exemplo. Vamos supor que $L$ seja uma lista de 100 usuários, $L$ = $u_1, u_2, ..., u_{100}$ e que eu tenha escolhido como número de grupos o valor 3. Ou seja, vou separar esses usuários em 3 novas listas: $L_1,L_2,L_3$.  \n",
        "<br>\n",
        "\n",
        "Na lista $L_1$ vou colocar os primeiros 10% usuários mais próximos de $X$. \n",
        "$L_1 =u_1,u_2,....,u_{10}$ \n",
        "<br>\n",
        "Na lista $L_2$ vou colocar os primeiros 20% usuários mais próximos de $X$. \n",
        "$L_1 =u_1,u_2,....,u_{20}$\n",
        "<br>\n",
        "Na lista $L_3$ vou colocar os primeiros 40% usuários mais próximos de $X$. \n",
        "$L_1 =u_1,u_2,....,u_{40}$ \n",
        "<br><br>\n",
        "\n",
        "Separado os usuários próximos em grupos de interesse vou olhar dentro desses grupos e anotar os filmes que foram avaliados pelo menos $nmingrupo$ vezes. Esse procedimento é realizado por causa do problema da negligência citado anteriormente.  Então para a lista $L_1$ determino a lista de filmes $m_1,$ seguindo esse critério. Para a lista $L_2$ determino a lista de filmes $m_2$. Para a lista $L_3$ determino a lista de filmes $m_3$.\n",
        "<br><br>\n",
        "Para o par $\\{L_1,m_1\\}$ construo o conjunto de recomendações $r_1$ composto por recomendações de filmes baseado na média das avaliações de $L_1$ sobre os filmes de $m_1$. De forma análoga são construídos os conjuntos de avaliações $r_2$ e $r_3$.\n",
        "<br><br>\n",
        "\n",
        "Como os grupos foram separados dos usuários mais próximos para os mais afastados, a precisão de uma recomendação no grupo de usuários $L_1$ é maior que em $L_2$, que por sua vez é maior que em $L_3$. Portanto quando eu for recomendar um filme para um usuário, primeiro vou olhar para o grupo $L_1$. Se esse filme está na lista $m_1$ sua avalição está em $r_1$ e vou tomar essa avaliação para recomendar ao usuário $X$. Se esse filme não estiver em $m_1$, vou olhar para a lista $m_2$, caso esteja em $m_2$ vou utilizar sua avalição que se encontra em $r_2$. Caso o filme não esteja em $m_2$, vou olhar para a lista $m_3$.Caso esteja em $m_3$ vou utilizar sua avalição que se encontra em $r_3$. Por último, caso o determinado filme não esteja em nenhuma das listas, vou utilizar a média das recomendações do banco sobre o filme. Dessa forma todo filme passa a sofrer um processo de recomendação para o usuário $X$.\n",
        " \n",
        "\n"
      ]
    },
    {
      "cell_type": "markdown",
      "metadata": {
        "id": "x-fuUqiifB0v",
        "colab_type": "text"
      },
      "source": [
        "# 5. Programação"
      ]
    },
    {
      "cell_type": "markdown",
      "metadata": {
        "id": "FipYmm8B9-D_",
        "colab_type": "text"
      },
      "source": [
        "Nessa seção são apresentadas todas as funções utilizadas na implementação do algoritmo proposto."
      ]
    },
    {
      "cell_type": "markdown",
      "metadata": {
        "id": "83q5g6fJIfNZ",
        "colab_type": "text"
      },
      "source": [
        "## Importação de pacotes"
      ]
    },
    {
      "cell_type": "code",
      "metadata": {
        "id": "kC5vrnr_InPS",
        "colab_type": "code",
        "colab": {}
      },
      "source": [
        "import pandas as pd\n",
        "import numpy as np\n",
        "import random\n",
        "import time"
      ],
      "execution_count": 0,
      "outputs": []
    },
    {
      "cell_type": "markdown",
      "metadata": {
        "id": "7Smcpil0Iswy",
        "colab_type": "text"
      },
      "source": [
        "## Funções"
      ]
    },
    {
      "cell_type": "markdown",
      "metadata": {
        "id": "B08yWUI2MfV2",
        "colab_type": "text"
      },
      "source": [
        "### Criação da matriz UxM"
      ]
    },
    {
      "cell_type": "markdown",
      "metadata": {
        "id": "OsczJqvpK69U",
        "colab_type": "text"
      },
      "source": [
        "As avaliações de usuários sobre filmes/músicas costumam ser armazendas em tabelas onde cada linha contém uma referência ao usuário, que pode ser um código ou um índice, seguida do código do filme e da avaliação do usuário sobre o filme. A função seguinte considera que essa tabela já está no formato dataframe do pandas, e, a partir desse objeto cria uma matriz do tipo User x Movie (UxM) já discutida anteriormente. Essa matriz diferentemente do objeto anterior lista todos os filmes possíveis em coluna e todos os usuários que fizeram alguma avaliação por linha. Atribui para cada filme a nota do usuário ou coloca o valor 0 caso o usuário não tenha feito nehuma avaliação sobre o filme. "
      ]
    },
    {
      "cell_type": "code",
      "metadata": {
        "id": "eRyjiw40IxKn",
        "colab_type": "code",
        "colab": {}
      },
      "source": [
        "def create_uxm_matrix(dataframe,user,movie,rating):\n",
        "    \n",
        "    \"\"\"Dado um objeto pandas do tipo dataframe composto por avaliações\n",
        "    de usuários sobre filmes cujas colunas são user, movie e rating. Retorna\n",
        "    uma matriz do tipo Users x Movies (UxM), onde cada linha representa um \n",
        "    usuário e cada coluna um filme com a respectiva avaliação do usuário \n",
        "    sobre o filme. Para filmes não avaliados a nota é zero. \"\"\"\n",
        "    \n",
        "    index_max_users = max(np.unique(dataframe.iloc[:,0].values))\n",
        "    index_max_movies = max(np.unique(dataframe.iloc[:,1].values))\n",
        "    uxm_matrix = np.zeros((index_max_users,index_max_movies))\n",
        "    \n",
        "    for id_user in range(1,index_max_users+1):\n",
        "    \n",
        "        movies_id = dataframe.loc[dataframe[user]==id_user][movie].values \n",
        "        ratings_id = dataframe.loc[dataframe[user]==id_user][rating].values    \n",
        "    \n",
        "        for id_movie in range(1,index_max_movies+1):\n",
        "        \n",
        "            if id_movie in movies_id:\n",
        "            \n",
        "                rating_user_movie = np.where(movies_id == id_movie)\n",
        "                uxm_matrix[id_user-1,id_movie-1]=ratings_id[rating_user_movie]\n",
        "    \n",
        "    return uxm_matrix"
      ],
      "execution_count": 0,
      "outputs": []
    },
    {
      "cell_type": "markdown",
      "metadata": {
        "id": "gR5bkmd3Mxt7",
        "colab_type": "text"
      },
      "source": [
        "###Matriz 01 - Um truque"
      ]
    },
    {
      "cell_type": "markdown",
      "metadata": {
        "id": "5emTU9H3M214",
        "colab_type": "text"
      },
      "source": [
        "No decorrer do processo de implementação do algoritmo o tempo todo é necessário contar os valores não nulos de uma matriz por coluna ou por linha, processo que tem implementação no numpy, porém além disso, era preciso saber dada duas linhas quando essa linhas tem avaliações em comum, ou seja, quantos elementos possuem valor maior que zero e estão no mesmo índice em duas linhas diferentes, quais são esses índices. Identificar quando um elemento de uma matriz possui valor maior que zero, ou zero, é de extrema importância para o algoritmo.A função descrita abaixo faze exatamente isso, dada uma matriz A, retorna uma matriz A', de mesma dimensão, onde os valores maiores de que 0 na matriz A se transformam em 1 na matriz A'. Essa função será utilizada em muitas outras funções do programa."
      ]
    },
    {
      "cell_type": "code",
      "metadata": {
        "id": "0DbEg_RoI80Q",
        "colab_type": "code",
        "colab": {}
      },
      "source": [
        "def matrix_01(matrix):\n",
        "    \n",
        "    \"\"\"Se a matriz não for nula retorna uma matriz de mesma dimensão onde\n",
        "    o valor um é atribuído para qualquer valor maior que zero.\"\"\"\n",
        "    \n",
        "    if len(matrix)>0:     \n",
        "        maxm = np.max(matrix)        \n",
        "        if maxm==0:\n",
        "            maxm=1    \n",
        "        return np.ceil(matrix/ maxm)\n",
        "    else:\n",
        "        return matrix"
      ],
      "execution_count": 0,
      "outputs": []
    },
    {
      "cell_type": "markdown",
      "metadata": {
        "id": "8KjsQKC3OpdG",
        "colab_type": "text"
      },
      "source": [
        "### Filmes com poucas avaliações"
      ]
    },
    {
      "cell_type": "markdown",
      "metadata": {
        "id": "x0TioKyFOyc6",
        "colab_type": "text"
      },
      "source": [
        "Filmes com poucas avaliações são difíceis de serem recomendados, popularidade é importante. Além do que se não houver algo com que comparar é impossível fazer uma recomendação. A função seguinte procura por esses filmes.  "
      ]
    },
    {
      "cell_type": "code",
      "metadata": {
        "id": "SsP5BtBWJAN_",
        "colab_type": "code",
        "colab": {}
      },
      "source": [
        "def poor_movies(matrix, nb):\n",
        "    \n",
        "    \"\"\"Seleciona em uma matriz UxM a lista dos índices dos filmes com \n",
        "    até nb avaliações. Retorna a lista dos filmes como primeira saída\n",
        "    (poor_movies)e a matriz sem as colunas selecionadas na segunda \n",
        "    saída(matrix_without_poor). \"\"\"\n",
        "\n",
        "    users,movies = matrix.shape    \n",
        "    poor_movies=[]\n",
        "    \n",
        "    for movie in range(movies):\n",
        "        column = matrix[:,movie]\n",
        "        users_rated_movie = sum(matrix_01(column))\n",
        "        if users_rated_movie <= nb:\n",
        "            poor_movies.append(movie)\n",
        "            \n",
        "    matrix_without_poor = np.delete(matrix,poor_movies, axis = 1)\n",
        "    \n",
        "    return poor_movies,matrix_without_poor"
      ],
      "execution_count": 0,
      "outputs": []
    },
    {
      "cell_type": "markdown",
      "metadata": {
        "id": "z4WEfS3IPecF",
        "colab_type": "text"
      },
      "source": [
        "### Treinamento e teste"
      ]
    },
    {
      "cell_type": "markdown",
      "metadata": {
        "id": "F9CjOruqPhU-",
        "colab_type": "text"
      },
      "source": [
        "Dada uma matriz do tipo UxM, para se construir os conjuntos de treinamento e teste é preciso olhar em cada linha e separar uma porcentagem das avaliações para treinamento(split) e o resto para teste. A função seguinte realiza esse procedimento em todas as linhas de uma matriz UxM."
      ]
    },
    {
      "cell_type": "code",
      "metadata": {
        "id": "qyl6pLMsJNZP",
        "colab_type": "code",
        "colab": {}
      },
      "source": [
        "def split_train_test(matrix,split):\n",
        "    \n",
        "    \"\"\"Dada uma matrix no formato UxM. Retorna duas matrizes uma de\n",
        "    treinamento (X_train) e uma de teste (X_test). Onde a matriz de \n",
        "    treinamento possui a porcentagem definida em split do número de\n",
        "    avaliações por linha.\"\"\"\n",
        "    \n",
        "    matrix01 = matrix_01(matrix)       \n",
        "    users,movies = matrix.shape    \n",
        "    X_train = np.zeros((users,movies))\n",
        "    X_test = np.zeros((users,movies))\n",
        "    \n",
        "    for i in range(users):\n",
        "        \n",
        "        x1_train = np.zeros((1,movies))\n",
        "        x1_test = np.zeros((1,movies))        \n",
        "        movies_rated_i = sum(matrix01[i,:])        \n",
        "        number_split = int(np.floor(movies_rated_i*split))     \n",
        "        list_movies_rated = list(np.where(matrix[i,:]!=0)[0])\n",
        "        index_train = random.sample(list_movies_rated,number_split)\n",
        "        \n",
        "        index_test = []\n",
        "        \n",
        "        for number in list_movies_rated:\n",
        "            if number not in index_train:\n",
        "                index_test.append(number)\n",
        "    \n",
        "        x1_train[0][(index_train)] = matrix[i,(index_train)]\n",
        "        x1_test[0][(index_test)] = matrix[i,(index_test)]\n",
        "        \n",
        "        X_train[i,:] = x1_train[0]\n",
        "        X_test[i,:] = x1_test[0]\n",
        "    \n",
        "    return X_train, X_test"
      ],
      "execution_count": 0,
      "outputs": []
    },
    {
      "cell_type": "markdown",
      "metadata": {
        "id": "NirdLtq4QLbo",
        "colab_type": "text"
      },
      "source": [
        "### Ordenando os usuário com mais avaliações"
      ]
    },
    {
      "cell_type": "markdown",
      "metadata": {
        "id": "JIBXSPF3QO11",
        "colab_type": "text"
      },
      "source": [
        "Usuários com mais avaliações em um banco podem ser importantes para agilizar o procedimento de recomendação pois fornecem mais dados de comparação. A função seguinte ordena todos os usuários de uma matriz UxM por número de avaliações."
      ]
    },
    {
      "cell_type": "code",
      "metadata": {
        "id": "fX5C2wXtJRWr",
        "colab_type": "code",
        "colab": {}
      },
      "source": [
        "def orderby_bestusers(matrix,nb=0):\n",
        "\n",
        "    \"\"\"Dada uma matriz UxM, retorna a lista dos nb usuários com mais avaliações\n",
        "    de filmes. Se nenhum valor de nb for informado, retorna a lista com\n",
        "    todos os usuários por ordem de quem tem mais avaliação.\"\"\"\n",
        "    \n",
        "    users,movies = matrix.shape      \n",
        "    matrix01 = matrix_01(matrix)\n",
        "    nb_users_movies = [np.sum(matrix01[i,:]) for i in range(users)]\n",
        "    nb_users_movies = np.array(nb_users_movies)\n",
        "    index_list = np.argsort(nb_users_movies)[::-1]\n",
        "\n",
        "    if nb == 0:\n",
        "        nb = users\n",
        "    \n",
        "    return index_list[:nb]"
      ],
      "execution_count": 0,
      "outputs": []
    },
    {
      "cell_type": "markdown",
      "metadata": {
        "id": "pkkVCVZxQV3X",
        "colab_type": "text"
      },
      "source": [
        "###Ordenando os filmes mais populares"
      ]
    },
    {
      "cell_type": "markdown",
      "metadata": {
        "id": "biAd-oXqRJZp",
        "colab_type": "text"
      },
      "source": [
        "Saber quais filmes possuem mais avaliações dos usuários é importante para fazer o processo de recomedação final para um usuário. Um filme muito popular e que tenha uma resposta de recomendação do algoritmo alta deve ser mais indicado que um filme pouco popular com a mesma resposta de recomendação do algoritmo. A função seguinte ordena os filmes por número de avaliações dos usuários."
      ]
    },
    {
      "cell_type": "code",
      "metadata": {
        "id": "g3vHiu46JVQ7",
        "colab_type": "code",
        "colab": {}
      },
      "source": [
        "def orderby_bestmovies(matrix,nb=0):\n",
        "    \n",
        "    \"\"\"Dada uma matriz UxM, retorna a lista dos filmes mais avaliados pelos\n",
        "    usuários.Se nenhum valor de nb for informado, retorna a lista com\n",
        "    todos os filmes por ordem de quem tem mais avaliação\"\"\"\n",
        "    \n",
        "    matrix01 = matrix_01(matrix)\n",
        "    nb_movies_rat=[np.sum(matrix01[:,i]) for i in range(matrix01.shape[1])]\n",
        "    nb_movies_rat = np.array(nb_movies_rat)\n",
        "    index_list = np.argsort(nb_movies_rat)[::-1]\n",
        "    \n",
        "    if nb == 0:\n",
        "        nb = matrix.shape[1]\n",
        "\n",
        "    return index_list[:nb]"
      ],
      "execution_count": 0,
      "outputs": []
    },
    {
      "cell_type": "markdown",
      "metadata": {
        "id": "EXiX7eGuRx6D",
        "colab_type": "text"
      },
      "source": [
        "### Média e mediana (diferentes) de uma matriz"
      ]
    },
    {
      "cell_type": "markdown",
      "metadata": {
        "id": "m4-CNNYkR3iA",
        "colab_type": "text"
      },
      "source": [
        "Aspas para o \"diferente\" porque realmente é. Se fosse para calcular a mediana ou a média por coluna de uma matriz qualquer, o numpy já propicia isso. Porém a abordagem aqui é dentre as matrizes do tipo UxM, onde o valor 0 representa que um usuário não fez avaliação sobre um determinado filme.\n",
        "<br><br>\n",
        "\n",
        "A função seguinte calcula a mediana e a média por coluna de uma determinada matriz porém somente para os valores em coluna diferentes de zero. Se por exemplo a matriz UxM não possuir nenhum filme com 0 avaliações, o resultado da função é um vetor linha inteiramente não nulo.\n"
      ]
    },
    {
      "cell_type": "code",
      "metadata": {
        "id": "O8XIYgGfJYfv",
        "colab_type": "code",
        "colab": {}
      },
      "source": [
        "def metrics_geral(matrix):\n",
        "    \n",
        "    \"\"\"Dada uma matriz no formato UxM. Retorna a mediana e a média\n",
        "    das avaliações dos filmes desconsiderando os valores zero, que representam \n",
        "    filmes que não foram avaliados por um determinado usuário.\"\"\"\n",
        "    \n",
        "    users,movies = matrix.shape\n",
        "    median=[]\n",
        "    mean = []\n",
        "\n",
        "    for j in range(movies):\n",
        "        selected = []\n",
        "        for i in range(users):\n",
        "            if matrix[i,j]>0:\n",
        "                selected.append(matrix[i,j])        \n",
        "        if len(selected)>0:\n",
        "            median.append(np.median(selected))  \n",
        "            mean.append(np.mean(selected))\n",
        "        else:\n",
        "            median.append(0)  \n",
        "            mean.append(0)\n",
        "            \n",
        "    return median,mean"
      ],
      "execution_count": 0,
      "outputs": []
    },
    {
      "cell_type": "markdown",
      "metadata": {
        "id": "fsnPIl0LTrpN",
        "colab_type": "text"
      },
      "source": [
        "### Avaliações em comum"
      ]
    },
    {
      "cell_type": "markdown",
      "metadata": {
        "id": "0lvHLrVmTvqm",
        "colab_type": "text"
      },
      "source": [
        "Para comparar dois usuários é importante saber quais filmes em comum esses usuários avaliaram. A função seguinte determina exatamente isso. "
      ]
    },
    {
      "cell_type": "code",
      "metadata": {
        "id": "ORNFaCE3Jcwg",
        "colab_type": "code",
        "colab": {}
      },
      "source": [
        "def match_index(row1,row2):\n",
        "    \n",
        "    \"\"\"Dadas duas linhas da matrix UxM, row1 e row2. Retorna uma lista\n",
        "    com os índices onde ambos os valores são maiores que 1 iguais a 1, ou seja,\n",
        "    os índices dos filmes cuja avaliação foi comum aos dois usuários como 1\n",
        "    e os demais como 0.\"\"\"\n",
        "    \n",
        "    row101 = matrix_01(row1)\n",
        "    row201 = matrix_01(row2)\n",
        "    return row101*row201 "
      ],
      "execution_count": 0,
      "outputs": []
    },
    {
      "cell_type": "markdown",
      "metadata": {
        "id": "6gBnr-bhUqBw",
        "colab_type": "text"
      },
      "source": [
        "E o número de avaliações em comum dado por:"
      ]
    },
    {
      "cell_type": "code",
      "metadata": {
        "id": "eDgc1Fj3JiNQ",
        "colab_type": "code",
        "colab": {}
      },
      "source": [
        "def nb_match(row1,row2):\n",
        "    \n",
        "    \"\"\"Dadas duas linhas de uma matriz UxM, retorna o número de avaliações\n",
        "    em comum de dois usuários.\"\"\"\n",
        "    \n",
        "    return sum(match_index(row1,row2))"
      ],
      "execution_count": 0,
      "outputs": []
    },
    {
      "cell_type": "markdown",
      "metadata": {
        "id": "3v6NaACWUvVk",
        "colab_type": "text"
      },
      "source": [
        "Outra aspecto importante é determinar quais filmes que não foram avaliados por um usuário são avaliados por outro:"
      ]
    },
    {
      "cell_type": "code",
      "metadata": {
        "id": "rJ8uzDRnJfn3",
        "colab_type": "code",
        "colab": {}
      },
      "source": [
        "def toadd_index(row1,row2):\n",
        "    \n",
        "    \"\"\"Dadas duas linhas da matrix UxM, row1 e row2. Retorna uma lista\n",
        "    com os índices que possuem valor 0 em row1 e valor maior que 0 em row2, \n",
        "    ou seja, retorna uma lista com os filmes que possuem avaliação pelo\n",
        "    segundo usuário mas não pelo primeiro.\"\"\"\n",
        "    \n",
        "    row101 = matrix_01(row1)\n",
        "    row101 = (row101 +1)%2\n",
        "    row201 = matrix_01(row2)\n",
        "    return row101*row201 "
      ],
      "execution_count": 0,
      "outputs": []
    },
    {
      "cell_type": "markdown",
      "metadata": {
        "id": "O9C8RIEQVC6p",
        "colab_type": "text"
      },
      "source": [
        "### Distância (diferente) entre usuários"
      ]
    },
    {
      "cell_type": "markdown",
      "metadata": {
        "id": "iiu-EtGuVKB5",
        "colab_type": "text"
      },
      "source": [
        "Aspas novamente, agora para a palavra \"Distância\", que não é a distância entre vetores que você conhece (é quase) mas uma que foi criada para ser útil ao problema de receomendação e ao algoritmo proposto.\n",
        "<br><br>\n",
        "\n",
        "A função distância seguinte calcula a diferença entre dois vetores linha, no caso entre duas avaliações de usuários de uma matriz UxM, porém somente nos filmes em que ambos usuários fizeram a avaliação. Essa distinção é necessária para não permitir que dois usuários fiquem muito distantes apenas por possuírem  poucas avaliações de filmes em comum, e se essas poucas avaliações forem idênticas? Outro detalhe é que seguindo essa lógica, caso não haja nenhuma avaliação em comum a distância deveria ser zero, o que não faz sentido. Para contornar esse problema, adicionei um valor alto como resposta que supere qualquer outro valor de distância entre usuários com avaliações em comum. A função distância foi discutida anteriormente em mais detalhes."
      ]
    },
    {
      "cell_type": "code",
      "metadata": {
        "id": "kPr1wXa3JlIU",
        "colab_type": "code",
        "colab": {}
      },
      "source": [
        "def distance(row1,row2,high=1000):  \n",
        "    \n",
        "    \"\"\"calcula a distância entre duas avaliações de usuários, porém somente\n",
        "    onde esses usuários possuem avaliação em comum. Caso não possuam nenhuma\n",
        "    avaliação em comum um valor alto é retornado, indicado por high.\"\"\"\n",
        "    \n",
        "    list_index = match_index(row1,row2)\n",
        "    number_matchs = sum(list_index)\n",
        "    \n",
        "    if number_matchs==0:\n",
        "        return high\n",
        "    \n",
        "    return (sum((list_index*row1 - list_index*row2)**2))/number_matchs"
      ],
      "execution_count": 0,
      "outputs": []
    },
    {
      "cell_type": "markdown",
      "metadata": {
        "id": "cqJtNY4QX_DZ",
        "colab_type": "text"
      },
      "source": [
        "### Selecionando usuários por número de filmes avaliados em comum:"
      ]
    },
    {
      "cell_type": "markdown",
      "metadata": {
        "id": "63J6yjKbYFGN",
        "colab_type": "text"
      },
      "source": [
        "Para comparar um usuário com os demais é preciso exigir um número mínimo de filmes avaliados em comum. Objeto da seguinte função:"
      ]
    },
    {
      "cell_type": "code",
      "metadata": {
        "id": "pMXWayUjJpTA",
        "colab_type": "code",
        "colab": {}
      },
      "source": [
        "def selected_users_matchs(index,matrix,nmin):\n",
        "    \n",
        "    \"\"\"Considere uma matriz (matrix) UxM, onde index representa o índice\n",
        "    de um usuário e nmin é o número mínimo de avaliações que devem ser levadas\n",
        "    em consideração para a comparação de dois usuários. A função retorna\n",
        "     uma lista dos usuários com pelo menos nmin avaliações de filmes em \n",
        "     comum com o usuário selecionado pelo index.\"\"\"\n",
        "\n",
        "    users,_ = matrix.shape \n",
        "    row1=matrix[index,:]    \n",
        "    list_index=[]    \n",
        "        \n",
        "    for i in range(users):\n",
        "        if i!= index:\n",
        "            row2 = matrix[i,:]\n",
        "            nb =nb_match(row1,row2)                        \n",
        "            if nb >= nmin:\n",
        "                list_index.append(i)\n",
        "                \n",
        "    return list_index"
      ],
      "execution_count": 0,
      "outputs": []
    },
    {
      "cell_type": "markdown",
      "metadata": {
        "id": "NAtslYGjYyKx",
        "colab_type": "text"
      },
      "source": [
        "### Calculando as distâncias entre um usuário e uma lista de usuários"
      ]
    },
    {
      "cell_type": "markdown",
      "metadata": {
        "id": "OKEuwjFFZEER",
        "colab_type": "text"
      },
      "source": [
        "Conhecida a lista dos usuários que podem ser comparados com um usuário espcífico, é preciso saber a distância que esse usuário específico está dos demais dessa lista. Objeto da seguinte função:"
      ]
    },
    {
      "cell_type": "code",
      "metadata": {
        "id": "_fobzi17JtqR",
        "colab_type": "code",
        "colab": {}
      },
      "source": [
        "def distances_select(index,list_index,matrix):\n",
        "    \n",
        "    \"\"\"Dada uma matriz (matrix) UxM, o índice de um usuário em \n",
        "    particular(index) e uma lista de outros usuários (list_index). A função\n",
        "     calcula a distância entre a linha do index e as demais linhas.\"\"\"\n",
        "    \n",
        "         \n",
        "    distances=[]\n",
        "    row1= matrix[index,:]\n",
        "    matrix = matrix[list_index,:]\n",
        "    users,_ = matrix.shape \n",
        "    \n",
        "    for i in range(users): \n",
        "        row2 = matrix[i,:]        \n",
        "        d = distance(row1,row2)\n",
        "        distances.append(d)\n",
        "            \n",
        "    return distances"
      ],
      "execution_count": 0,
      "outputs": []
    },
    {
      "cell_type": "markdown",
      "metadata": {
        "id": "-ElegH4OZWUx",
        "colab_type": "text"
      },
      "source": [
        "A função seguinte ordena os usuários obtidos anteriormente da menor para a maior distância."
      ]
    },
    {
      "cell_type": "code",
      "metadata": {
        "id": "W1_F5j9VJvpo",
        "colab_type": "code",
        "colab": {}
      },
      "source": [
        "def distances_selecet_order(index,list_index,matrix,nb=0):\n",
        "    \n",
        "    \"\"\"Dada uma matriz(matrix) UxM, o índice de um usuário e uma lista de \n",
        "    índices (list_index) que representam outros usuários. A função retorna \n",
        "    a list_index ordenada pelos usuários com menor distância até a posição\n",
        "     nb. Caso nenhum valor seja dado para nb, retorna a lista inteira ordenada \n",
        "     por distância.\"\"\"\n",
        "    \n",
        "    distances = distances_select(index,list_index,matrix)\n",
        "    df = pd.DataFrame({'col1':distances, 'col2':list_index})\n",
        "    df = df.sort_values(by=['col1'])\n",
        "    size = len(list_index)\n",
        "    \n",
        "    if nb == 0 or size<nb:\n",
        "        nb = size  \n",
        "    \n",
        "    return df['col2'].values[:nb]"
      ],
      "execution_count": 0,
      "outputs": []
    },
    {
      "cell_type": "markdown",
      "metadata": {
        "id": "pzMt9MOTZmqq",
        "colab_type": "text"
      },
      "source": [
        "### Número mínimo de filmes em comum em um grupo"
      ]
    },
    {
      "cell_type": "markdown",
      "metadata": {
        "id": "J8RcwcLuZ0iG",
        "colab_type": "text"
      },
      "source": [
        "Suponha que eu identifique um grupo de usuários parecido com o meu perfil e que queira atribuir as avaliações desse grupo de usuários para minhas recomendações. Porém, dentro desse grupo uma pessoa deu uma avaliação em um momento de cansaço, errou na hora de avaliar e eu só tenho a avaliação dessa pessoa. Se eu utilizar essa recomendação a chance de errar é grande. Parece fazer sentido determinar um número mínimo de avaliações e tomar a média ou a mediana dentro desse conjunto para não cair em casos como esse.  Esse problema foi discutido anteriormente e está discutido na seção \"Problema da negligência\".\n",
        "<br><br>\n",
        "\n",
        "A função seguinte procura dentro de uma lista de usuários relacionados com um deteminado usuário específico, quais filmes possuem ao menos um número mínimo de avaliações e separa essa lista para utilização em um processo de recomendação futuro."
      ]
    },
    {
      "cell_type": "code",
      "metadata": {
        "id": "LGZnC8QxJ69I",
        "colab_type": "code",
        "colab": {}
      },
      "source": [
        "def movies_commum(index,list_index,matrix,nb):\n",
        "    \n",
        "    \"\"\"Dada uma matriz(matrix) do tipo UxM, o índice de um usuário (index),\n",
        "    uma lista de outros usuários para comparar(list_index) e um número \n",
        "    mínimo (nb) de filmes. A função retorna uma lista com o índice dos \n",
        "    filmes em comum com pelo menos nb avaliações em list_index que não foram \n",
        "    avaliados pelo usuário selecionado pelo index.\"\"\"\n",
        "    \n",
        "    row = matrix[index,:]\n",
        "    row01 = matrix_01(row)\n",
        "    row01=(row01 + 1)%2        \n",
        "    matrixb = matrix[np.array(list_index).astype(int),:]\n",
        "    matrixb01 = matrix_01(matrixb)    \n",
        "    rated = sum(matrixb01)    \n",
        "    rated = rated*row01\n",
        "    result=[]\n",
        "    \n",
        "    for i in range(len(rated)):\n",
        "        if rated[i]>=nb:\n",
        "            result.append(i)    \n",
        "    return result"
      ],
      "execution_count": 0,
      "outputs": []
    },
    {
      "cell_type": "markdown",
      "metadata": {
        "id": "IVL0i2yKb2qU",
        "colab_type": "text"
      },
      "source": [
        "### Recomendação por usuário"
      ]
    },
    {
      "cell_type": "markdown",
      "metadata": {
        "id": "PrxD4Rn8c3Kh",
        "colab_type": "text"
      },
      "source": [
        "Dado um usuário representado por um índice em uma matriz UxM ,uma lista de usuários relacionados e uma lista de filmes a ser recomendada ao usuário inicial de acordo com o grupo relacionado. A função seguinte tem como saída a lista original do usuário acrescida da média dos filmes do grupo relacionado. Média (diferente) essa calculada pela função definida anteriormente. "
      ]
    },
    {
      "cell_type": "code",
      "metadata": {
        "id": "mEL89tgUJ8K7",
        "colab_type": "code",
        "colab": {}
      },
      "source": [
        "def compile_row(index,users_list,movies_list,matrix):\n",
        "    \n",
        "    \"\"\"Dada uma matriz(matrix) do tipo UxM, o índice do usuário que terá uma\n",
        "    linha compilada(index), uma lista de usuários a ser utilizada(users_list),\n",
        "     e uma lista de filmes a ser atualizada(movies_list). A função retorna \n",
        "     uma linha de avaliações composta pelas avaliações do usuário selecionado\n",
        "     com o index acrescida pela média das avaliações dos usuários em \n",
        "     users_list, desde que o filme esteja em list_movies. \"\"\"\n",
        "    \n",
        "    row0 = matrix[index,:]    \n",
        "    matrixb=matrix[np.array(users_list).astype(int),:]   \n",
        "    _,mean = metrics_geral(matrixb) \n",
        "    result=[]\n",
        "\n",
        "    for i in range(len(row0)):\n",
        "        if i in movies_list:\n",
        "            result.append(mean[i])\n",
        "        else:\n",
        "            result.append(row0[i])\n",
        "        \n",
        "    return np.array(result)"
      ],
      "execution_count": 0,
      "outputs": []
    },
    {
      "cell_type": "markdown",
      "metadata": {
        "id": "pBOsMobFd38m",
        "colab_type": "text"
      },
      "source": [
        "De acordo com o algoritmo proposto são feitas recomendações utilizando grupos menores até chegar em grupos maiores. A seguinte função adiciona essas recomendações mantendo a recomendação do primeiro grupo(menor) onde o grau de confiança na recomedação é maior. "
      ]
    },
    {
      "cell_type": "code",
      "metadata": {
        "id": "DSR6kdJKKArf",
        "colab_type": "code",
        "colab": {}
      },
      "source": [
        "def add_rows_especial(row1,row2):\n",
        "    \n",
        "    \"\"\"Dadas duas linhas de avaliações, row1 e row2, retorna os valores que não\n",
        "    são zero na primeira linha (row1) concatenados com os valores que não são\n",
        "    zero na segunda linha (row2)\n",
        "   .\"\"\"\n",
        "    \n",
        "    row_final = row1 + toadd_index(row1,row2)*row2\n",
        "    return row_final"
      ],
      "execution_count": 0,
      "outputs": []
    },
    {
      "cell_type": "markdown",
      "metadata": {
        "id": "Unn2lR6tebH5",
        "colab_type": "text"
      },
      "source": [
        "A seguinte função realiza o processo completo de recomendação para um usuário com três grupos definidos e com o tamanho desses grupos obtidos através de uma porcentagem da lista de usuários relacionados original."
      ]
    },
    {
      "cell_type": "code",
      "metadata": {
        "id": "EpNPDXfxKC2d",
        "colab_type": "code",
        "colab": {}
      },
      "source": [
        "def recomendation_row(index,matrix,min_movies,min_movies_group,\n",
        "                  amount_g1,amount_g2,amount_g3, mean_matrix):\n",
        "    \n",
        "    \"\"\"index: índice do usuário que será feito a recomendação;\n",
        "        matrix: matriz UxM;\n",
        "        min_movies: número mínimo de filmes para que se compare usuários;\n",
        "        min_movies_group: número mínimo de avaliações de um filme em um grupo\n",
        "        de usuários relacionados para que seja atualizada a avaliação;\n",
        "        amount_g1: percentual do tamanho do primeiro grupo avaliado;\n",
        "        amount_g2: percentual do tamanho do segundo grupo avaliado;\n",
        "        amount_g3: percentual do tamanho do terceiro grupo avaliado;\n",
        "        mean_matrix: média da matriz analizada, se for inserido o valor 0 \n",
        "        a média é calculada dentro da função, caso contrário é utilizado o \n",
        "        valor passado.         \n",
        "        A função retorna uma linha de avaliações completada com o algoritmo\n",
        "         proposto. Todos os filmes recebem avaliação para um dado usuário.\"\"\"\n",
        "    \n",
        "    if mean_matrix == 0:\n",
        "        _,mean_matrix = metrics_geral(matrix)\n",
        "    \n",
        "    users_related = selected_users_matchs(index,matrix,min_movies)\n",
        "    users_related = distances_selecet_order(index,users_related,matrix)\n",
        "    size = len(users_related)\n",
        "    \n",
        "    users_related_g1 = users_related[:int(np.ceil(amount_g1*size))]\n",
        "    users_related_g2 = users_related[:int(np.ceil(amount_g2*size))]\n",
        "    users_related_g3 = users_related[:int(np.ceil(amount_g3*size))]\n",
        "   \n",
        "    \n",
        "    m1 = movies_commum(index,users_related_g1,matrix,min_movies_group)\n",
        "    m2 = movies_commum(index,users_related_g2,matrix,min_movies_group)\n",
        "    m3 = movies_commum(index,users_related_g3,matrix,min_movies_group)\n",
        "    \n",
        "    \n",
        "    rowc1 = compile_row(index,users_related_g1,m1,matrix)\n",
        "    rowc2 = compile_row(index,users_related_g2,m2,matrix)\n",
        "    rowc3 = compile_row(index,users_related_g3,m3,matrix)\n",
        "    \n",
        "    \n",
        "    row_final = add_rows_especial(rowc1,rowc2)\n",
        "    row_final = add_rows_especial(row_final,rowc3)\n",
        "    \n",
        "    \n",
        "    row_final = add_rows_especial(row_final,mean_matrix)\n",
        "    \n",
        "    return row_final"
      ],
      "execution_count": 0,
      "outputs": []
    },
    {
      "cell_type": "markdown",
      "metadata": {
        "id": "sBecxg3mb8XU",
        "colab_type": "text"
      },
      "source": [
        "### Recomendação para lista de usuários"
      ]
    },
    {
      "cell_type": "markdown",
      "metadata": {
        "id": "H6ehdD7Ieqe9",
        "colab_type": "text"
      },
      "source": [
        "Com o processo de recomendação de acordo com o algoritmo proposto pode ser demorado. A seguinte função executa esse processo em uma lista da matriz UxM original. Além disso, calcula o erro cometido em cada linha quando utilizamos o algoritmo e quando utilizamo a recomendação básica da média. Ao final retorna uma matriz de recomendação para os usuários da lista e os erros cometidos."
      ]
    },
    {
      "cell_type": "code",
      "metadata": {
        "id": "FeEvjFAwKJkB",
        "colab_type": "code",
        "colab": {}
      },
      "source": [
        "def recomendation_listrows(list_index,matrix,min_movies,min_movies_group,\n",
        "                  amount_g1,amount_g2,amount_g3,mean_matrix, matrix_test):\n",
        "  \n",
        "    start = time.time()\n",
        "    \n",
        "    \"\"\"Executa o processo de recomendação (recomendation_row) em uma lista\n",
        "    de índices (list_index). No decorrer do processo calcula o erro cometido\n",
        "    quando comparado ao conjunto de testes (matrix_test) da recomedação feita \n",
        "    pelo algoritmo e também da recomendação feita pela média de todas as \n",
        "    avaliações do banco. Ao final retorna uma matriz (omega) com as \n",
        "    recomendações dos usuários no formato UxM. O erro médio do \n",
        "    algoritmo(distance_recomendation) e o erro médio quando utilizada a\n",
        "    média para fazer a recomendação (distance_mean). Além de mostrar o tempo \n",
        "    em minutos gasto no processo.\n",
        "    \"\"\"\n",
        "    \n",
        "    print(\"Em treinamento...\")\n",
        "    print(\"-\"*80)\n",
        "    omega =[]\n",
        "    distance_recomendation =[]\n",
        "    distance_mean =[]\n",
        "    size = len(list_index)\n",
        "    \n",
        "    \n",
        "    for i in range(size):\n",
        "        row_final = recomendation_row(list_index[i],matrix,\n",
        "                                      min_movies,min_movies_group,\n",
        "                  amount_g1,amount_g2,amount_g3,mean_matrix)\n",
        "        \n",
        "        row_test = matrix_test[list_index[i],:]\n",
        "        d1 = distance(row_final,row_test)\n",
        "        d2 = distance(row_test,mean_matrix)    \n",
        "        distance_recomendation.append(d1)\n",
        "        distance_mean.append(d2)\n",
        "        #d1 = str(d1)[:4]\n",
        "        #d2 = str(d2)[:4]\n",
        "        omega.append(row_final)\n",
        "        print(\"Linha %5d. Erro algoritmo: %5.2f. Erro média: %5.2f.\" %(i,d1,d2) )\n",
        "    \n",
        "    omega = np.array(omega)\n",
        "    distance_recomendation = np.mean(np.array(distance_recomendation))\n",
        "    distance_mean = np.mean(np.array(distance_mean))\n",
        "    \n",
        "    print(\"-\"*80)\n",
        "    print(\"Fim do treinamento!\")\n",
        "    print(\"-\"*80)\n",
        "    print(\"Erro algoritmo: %5.2f. Erro média: %5.2f.\"%(distance_recomendation, distance_mean))\n",
        "    \n",
        "    end = time.time()\n",
        "    total = end - start\n",
        "    total = total/60\n",
        "    print(\"-\"*80)\n",
        "    print(\"Tempo total decorrido: %4.d minutos.\"%(total))\n",
        "    return omega,distance_recomendation,distance_mean  "
      ],
      "execution_count": 0,
      "outputs": []
    },
    {
      "cell_type": "markdown",
      "metadata": {
        "id": "4ojdmkVXf6Em",
        "colab_type": "text"
      },
      "source": [
        "# 6. Aplicação do algoritmo proposto"
      ]
    },
    {
      "cell_type": "markdown",
      "metadata": {
        "id": "sUw2Nz1dhBP2",
        "colab_type": "text"
      },
      "source": [
        "Caso queira executar on-line o código seguinte certifique-se de ter executado as funções na seção \"Programação\" para prosseguir. "
      ]
    },
    {
      "cell_type": "markdown",
      "metadata": {
        "id": "2mqZcZN7f8M4",
        "colab_type": "text"
      },
      "source": [
        "## Pré processamento:"
      ]
    },
    {
      "cell_type": "markdown",
      "metadata": {
        "id": "agkZny36ghXP",
        "colab_type": "text"
      },
      "source": [
        "### Importação de pacotes"
      ]
    },
    {
      "cell_type": "code",
      "metadata": {
        "id": "jCl2tgqogwV3",
        "colab_type": "code",
        "colab": {}
      },
      "source": [
        "import os\n",
        "import pandas as pd\n",
        "import numpy as np \n",
        "import random\n",
        "import matplotlib.pyplot as plt"
      ],
      "execution_count": 0,
      "outputs": []
    },
    {
      "cell_type": "markdown",
      "metadata": {
        "id": "JwfviIMBgb4z",
        "colab_type": "text"
      },
      "source": [
        "### Criação da matriz UxM"
      ]
    },
    {
      "cell_type": "markdown",
      "metadata": {
        "id": "OPXOoJpMiHQa",
        "colab_type": "text"
      },
      "source": [
        "Obtendo a pasta com o banco de dados:"
      ]
    },
    {
      "cell_type": "code",
      "metadata": {
        "id": "ci2iZ2KHho_q",
        "colab_type": "code",
        "outputId": "4e5fe14b-0cae-4221-a8a1-8df4533b2c64",
        "colab": {
          "base_uri": "https://localhost:8080/",
          "height": 118
        }
      },
      "source": [
        "!git clone https://github.com/cunhamaicon/recomendation_system\n"
      ],
      "execution_count": 0,
      "outputs": [
        {
          "output_type": "stream",
          "text": [
            "Cloning into 'recomendation_system'...\n",
            "remote: Enumerating objects: 68, done.\u001b[K\n",
            "remote: Counting objects: 100% (68/68), done.\u001b[K\n",
            "remote: Compressing objects: 100% (57/57), done.\u001b[K\n",
            "remote: Total 68 (delta 12), reused 66 (delta 10), pack-reused 0\u001b[K\n",
            "Unpacking objects: 100% (68/68), done.\n"
          ],
          "name": "stdout"
        }
      ]
    },
    {
      "cell_type": "markdown",
      "metadata": {
        "id": "FfwFCAWciN6M",
        "colab_type": "text"
      },
      "source": [
        "Mudando o diretório:"
      ]
    },
    {
      "cell_type": "code",
      "metadata": {
        "id": "2qP28mQpiQC4",
        "colab_type": "code",
        "colab": {}
      },
      "source": [
        "os.chdir('recomendation_system')"
      ],
      "execution_count": 0,
      "outputs": []
    },
    {
      "cell_type": "markdown",
      "metadata": {
        "id": "afrSXlR_if_J",
        "colab_type": "text"
      },
      "source": [
        "Lendo o banco movielens com um milhão de avaliações de usuários:"
      ]
    },
    {
      "cell_type": "code",
      "metadata": {
        "id": "ADXg4r3ciiNo",
        "colab_type": "code",
        "colab": {}
      },
      "source": [
        "ratings = pd.read_csv('ml-1m/ratings.dat', sep = '::', header = None,\n",
        "                      engine = 'python', encoding = 'latin-1', \n",
        "                      names = [\"User\", \"Movie\", \"Rating\", \"Timestamp\"])"
      ],
      "execution_count": 0,
      "outputs": []
    },
    {
      "cell_type": "markdown",
      "metadata": {
        "id": "KfY90M4lisbc",
        "colab_type": "text"
      },
      "source": [
        "Exibindo o cabeçalho de ratings:"
      ]
    },
    {
      "cell_type": "code",
      "metadata": {
        "id": "hm_5-gbgiyRd",
        "colab_type": "code",
        "outputId": "a6896bdb-d503-4b09-cac1-d8f5a60a19f5",
        "colab": {
          "base_uri": "https://localhost:8080/",
          "height": 195
        }
      },
      "source": [
        "ratings.head()"
      ],
      "execution_count": 0,
      "outputs": [
        {
          "output_type": "execute_result",
          "data": {
            "text/html": [
              "<div>\n",
              "<style scoped>\n",
              "    .dataframe tbody tr th:only-of-type {\n",
              "        vertical-align: middle;\n",
              "    }\n",
              "\n",
              "    .dataframe tbody tr th {\n",
              "        vertical-align: top;\n",
              "    }\n",
              "\n",
              "    .dataframe thead th {\n",
              "        text-align: right;\n",
              "    }\n",
              "</style>\n",
              "<table border=\"1\" class=\"dataframe\">\n",
              "  <thead>\n",
              "    <tr style=\"text-align: right;\">\n",
              "      <th></th>\n",
              "      <th>User</th>\n",
              "      <th>Movie</th>\n",
              "      <th>Rating</th>\n",
              "      <th>Timestamp</th>\n",
              "    </tr>\n",
              "  </thead>\n",
              "  <tbody>\n",
              "    <tr>\n",
              "      <th>0</th>\n",
              "      <td>1</td>\n",
              "      <td>1193</td>\n",
              "      <td>5</td>\n",
              "      <td>978300760</td>\n",
              "    </tr>\n",
              "    <tr>\n",
              "      <th>1</th>\n",
              "      <td>1</td>\n",
              "      <td>661</td>\n",
              "      <td>3</td>\n",
              "      <td>978302109</td>\n",
              "    </tr>\n",
              "    <tr>\n",
              "      <th>2</th>\n",
              "      <td>1</td>\n",
              "      <td>914</td>\n",
              "      <td>3</td>\n",
              "      <td>978301968</td>\n",
              "    </tr>\n",
              "    <tr>\n",
              "      <th>3</th>\n",
              "      <td>1</td>\n",
              "      <td>3408</td>\n",
              "      <td>4</td>\n",
              "      <td>978300275</td>\n",
              "    </tr>\n",
              "    <tr>\n",
              "      <th>4</th>\n",
              "      <td>1</td>\n",
              "      <td>2355</td>\n",
              "      <td>5</td>\n",
              "      <td>978824291</td>\n",
              "    </tr>\n",
              "  </tbody>\n",
              "</table>\n",
              "</div>"
            ],
            "text/plain": [
              "   User  Movie  Rating  Timestamp\n",
              "0     1   1193       5  978300760\n",
              "1     1    661       3  978302109\n",
              "2     1    914       3  978301968\n",
              "3     1   3408       4  978300275\n",
              "4     1   2355       5  978824291"
            ]
          },
          "metadata": {
            "tags": []
          },
          "execution_count": 25
        }
      ]
    },
    {
      "cell_type": "markdown",
      "metadata": {
        "id": "A5Waq2oii4uY",
        "colab_type": "text"
      },
      "source": [
        "Eliminado a coluna \"Timestamp\" que não será utilizada:"
      ]
    },
    {
      "cell_type": "code",
      "metadata": {
        "id": "IzqpCI37i9MT",
        "colab_type": "code",
        "colab": {}
      },
      "source": [
        "ratings = ratings.iloc[:,:3]"
      ],
      "execution_count": 0,
      "outputs": []
    },
    {
      "cell_type": "markdown",
      "metadata": {
        "id": "o4EaHIHgi_ez",
        "colab_type": "text"
      },
      "source": [
        "Exibindo novamento o cabeçalho de ratings:"
      ]
    },
    {
      "cell_type": "code",
      "metadata": {
        "id": "TnyFy7j2jJsy",
        "colab_type": "code",
        "outputId": "bcb08d66-c180-4ac2-fc3b-275dee7c2ffa",
        "colab": {
          "base_uri": "https://localhost:8080/",
          "height": 195
        }
      },
      "source": [
        "ratings.head()"
      ],
      "execution_count": 0,
      "outputs": [
        {
          "output_type": "execute_result",
          "data": {
            "text/html": [
              "<div>\n",
              "<style scoped>\n",
              "    .dataframe tbody tr th:only-of-type {\n",
              "        vertical-align: middle;\n",
              "    }\n",
              "\n",
              "    .dataframe tbody tr th {\n",
              "        vertical-align: top;\n",
              "    }\n",
              "\n",
              "    .dataframe thead th {\n",
              "        text-align: right;\n",
              "    }\n",
              "</style>\n",
              "<table border=\"1\" class=\"dataframe\">\n",
              "  <thead>\n",
              "    <tr style=\"text-align: right;\">\n",
              "      <th></th>\n",
              "      <th>User</th>\n",
              "      <th>Movie</th>\n",
              "      <th>Rating</th>\n",
              "    </tr>\n",
              "  </thead>\n",
              "  <tbody>\n",
              "    <tr>\n",
              "      <th>0</th>\n",
              "      <td>1</td>\n",
              "      <td>1193</td>\n",
              "      <td>5</td>\n",
              "    </tr>\n",
              "    <tr>\n",
              "      <th>1</th>\n",
              "      <td>1</td>\n",
              "      <td>661</td>\n",
              "      <td>3</td>\n",
              "    </tr>\n",
              "    <tr>\n",
              "      <th>2</th>\n",
              "      <td>1</td>\n",
              "      <td>914</td>\n",
              "      <td>3</td>\n",
              "    </tr>\n",
              "    <tr>\n",
              "      <th>3</th>\n",
              "      <td>1</td>\n",
              "      <td>3408</td>\n",
              "      <td>4</td>\n",
              "    </tr>\n",
              "    <tr>\n",
              "      <th>4</th>\n",
              "      <td>1</td>\n",
              "      <td>2355</td>\n",
              "      <td>5</td>\n",
              "    </tr>\n",
              "  </tbody>\n",
              "</table>\n",
              "</div>"
            ],
            "text/plain": [
              "   User  Movie  Rating\n",
              "0     1   1193       5\n",
              "1     1    661       3\n",
              "2     1    914       3\n",
              "3     1   3408       4\n",
              "4     1   2355       5"
            ]
          },
          "metadata": {
            "tags": []
          },
          "execution_count": 26
        }
      ]
    },
    {
      "cell_type": "markdown",
      "metadata": {
        "id": "EN6q3hwdjMIX",
        "colab_type": "text"
      },
      "source": [
        "Obtendo informações do banco:"
      ]
    },
    {
      "cell_type": "code",
      "metadata": {
        "id": "Cxh68vB8jSas",
        "colab_type": "code",
        "outputId": "9c39dc10-3337-4cfc-85b1-ad0ea30e06a7",
        "colab": {
          "base_uri": "https://localhost:8080/",
          "height": 151
        }
      },
      "source": [
        "ratings.info()"
      ],
      "execution_count": 0,
      "outputs": [
        {
          "output_type": "stream",
          "text": [
            "<class 'pandas.core.frame.DataFrame'>\n",
            "RangeIndex: 1000209 entries, 0 to 1000208\n",
            "Data columns (total 3 columns):\n",
            "User      1000209 non-null int64\n",
            "Movie     1000209 non-null int64\n",
            "Rating    1000209 non-null int64\n",
            "dtypes: int64(3)\n",
            "memory usage: 22.9 MB\n"
          ],
          "name": "stdout"
        }
      ]
    },
    {
      "cell_type": "markdown",
      "metadata": {
        "id": "5x0XqBlZjV7G",
        "colab_type": "text"
      },
      "source": [
        "Criando a matriz UxM:"
      ]
    },
    {
      "cell_type": "code",
      "metadata": {
        "id": "dnDOL2vEjaUv",
        "colab_type": "code",
        "colab": {}
      },
      "source": [
        "uxm_matrix = create_uxm_matrix(ratings,\"User\",\"Movie\", \"Rating\")"
      ],
      "execution_count": 0,
      "outputs": []
    },
    {
      "cell_type": "markdown",
      "metadata": {
        "id": "OHnrOWDQj9FW",
        "colab_type": "text"
      },
      "source": [
        "Verificando a dimensão da matriz criada:"
      ]
    },
    {
      "cell_type": "code",
      "metadata": {
        "id": "94I7554PkATn",
        "colab_type": "code",
        "outputId": "0ed16fdc-12fb-432a-a651-188ab52b1153",
        "colab": {
          "base_uri": "https://localhost:8080/",
          "height": 34
        }
      },
      "source": [
        "print(uxm_matrix.shape)"
      ],
      "execution_count": 0,
      "outputs": [
        {
          "output_type": "stream",
          "text": [
            "(6040, 3952)\n"
          ],
          "name": "stdout"
        }
      ]
    },
    {
      "cell_type": "markdown",
      "metadata": {
        "id": "CcgBNtQ5kQWj",
        "colab_type": "text"
      },
      "source": [
        "Eliminando os filmes com menos de 3 avaliações:"
      ]
    },
    {
      "cell_type": "code",
      "metadata": {
        "id": "ODRKc2HGkVeG",
        "colab_type": "code",
        "colab": {}
      },
      "source": [
        "_,uxm_matrix = poor_movies(uxm_matrix,3)"
      ],
      "execution_count": 0,
      "outputs": []
    },
    {
      "cell_type": "markdown",
      "metadata": {
        "id": "YqyG44JnkiYd",
        "colab_type": "text"
      },
      "source": [
        "Verificando novamente a dimensão da matriz UxM:"
      ]
    },
    {
      "cell_type": "code",
      "metadata": {
        "id": "SQBOS2Xykc9m",
        "colab_type": "code",
        "outputId": "df8f0cca-2569-4a0b-cdf7-aa1468b9f962",
        "colab": {
          "base_uri": "https://localhost:8080/",
          "height": 34
        }
      },
      "source": [
        "print(uxm_matrix.shape)"
      ],
      "execution_count": 0,
      "outputs": [
        {
          "output_type": "stream",
          "text": [
            "(6040, 3461)\n"
          ],
          "name": "stdout"
        }
      ]
    },
    {
      "cell_type": "markdown",
      "metadata": {
        "id": "RqjJHoiNgnB_",
        "colab_type": "text"
      },
      "source": [
        "### Separando treinamento e teste"
      ]
    },
    {
      "cell_type": "code",
      "metadata": {
        "id": "SVRQUTbpkqHS",
        "colab_type": "code",
        "colab": {}
      },
      "source": [
        "X_train, X_test = split_train_test(uxm_matrix,0.8)"
      ],
      "execution_count": 0,
      "outputs": []
    },
    {
      "cell_type": "markdown",
      "metadata": {
        "id": "y7w3HJQEkyIl",
        "colab_type": "text"
      },
      "source": [
        "Eliminando os filmes com duas ou menos avaliações no conjunto de treinamento:"
      ]
    },
    {
      "cell_type": "code",
      "metadata": {
        "id": "Bybmv9krlCkZ",
        "colab_type": "code",
        "colab": {}
      },
      "source": [
        "poor_movies_train,X_train = poor_movies(X_train,2)"
      ],
      "execution_count": 0,
      "outputs": []
    },
    {
      "cell_type": "markdown",
      "metadata": {
        "id": "VrGBPFsPlHu-",
        "colab_type": "text"
      },
      "source": [
        "Fazendo o mesmo com o conjunto de teste:"
      ]
    },
    {
      "cell_type": "code",
      "metadata": {
        "id": "azL9887ilLKx",
        "colab_type": "code",
        "colab": {}
      },
      "source": [
        "X_test = np.delete(X_test,poor_movies_train,axis=1)"
      ],
      "execution_count": 0,
      "outputs": []
    },
    {
      "cell_type": "markdown",
      "metadata": {
        "id": "QaJq5KielNxD",
        "colab_type": "text"
      },
      "source": [
        "Verificando a dimensão das matrizs de treinamento e teste:"
      ]
    },
    {
      "cell_type": "code",
      "metadata": {
        "id": "eGCNEjxklSf7",
        "colab_type": "code",
        "outputId": "bd0a722b-5a46-4e8b-9839-1047a4ce291a",
        "colab": {
          "base_uri": "https://localhost:8080/",
          "height": 34
        }
      },
      "source": [
        "print(X_train.shape, X_test.shape)"
      ],
      "execution_count": 0,
      "outputs": [
        {
          "output_type": "stream",
          "text": [
            "(6040, 3451) (6040, 3451)\n"
          ],
          "name": "stdout"
        }
      ]
    },
    {
      "cell_type": "markdown",
      "metadata": {
        "id": "EXR_mT985UBG",
        "colab_type": "text"
      },
      "source": [
        "## Extraindo informações do banco"
      ]
    },
    {
      "cell_type": "markdown",
      "metadata": {
        "id": "FCaRdL407Qet",
        "colab_type": "text"
      },
      "source": [
        "### Dimensão da matriz UxM "
      ]
    },
    {
      "cell_type": "code",
      "metadata": {
        "id": "IkTL76BL7JEk",
        "colab_type": "code",
        "outputId": "521bf116-5dab-4fbe-a311-fbe3a7560f60",
        "colab": {
          "base_uri": "https://localhost:8080/",
          "height": 34
        }
      },
      "source": [
        "print(uxm_matrix.shape)"
      ],
      "execution_count": 0,
      "outputs": [
        {
          "output_type": "stream",
          "text": [
            "(6040, 3461)\n"
          ],
          "name": "stdout"
        }
      ]
    },
    {
      "cell_type": "markdown",
      "metadata": {
        "id": "tJbNDTs77eZs",
        "colab_type": "text"
      },
      "source": [
        "O que nos diz que esse banco de avaliações possui um total de 6040 usuários e 3461 filmes avaliados."
      ]
    },
    {
      "cell_type": "markdown",
      "metadata": {
        "id": "zpxxbKSyTrgT",
        "colab_type": "text"
      },
      "source": [
        "Como foram eliminiados filmes com até duas avaliações do conjunto de treinamento, as matrizes UxM de treinamento e teste provavelmente possuem menos filmes. Vamos dar uma olhada:"
      ]
    },
    {
      "cell_type": "code",
      "metadata": {
        "id": "unkUTe_CTi0r",
        "colab_type": "code",
        "outputId": "1c4eda29-5981-42f5-a802-a447c89d7523",
        "colab": {
          "base_uri": "https://localhost:8080/",
          "height": 34
        }
      },
      "source": [
        "print(\"Diminesão das matrizes de treinamento e teste: \",X_train.shape, X_test.shape)"
      ],
      "execution_count": 0,
      "outputs": [
        {
          "output_type": "stream",
          "text": [
            "Diminesão das matrizes de treinamento e teste:  (6040, 3451) (6040, 3451)\n"
          ],
          "name": "stdout"
        }
      ]
    },
    {
      "cell_type": "markdown",
      "metadata": {
        "id": "7ntqoojX7nbd",
        "colab_type": "text"
      },
      "source": [
        "### Avaliações de um usuário:"
      ]
    },
    {
      "cell_type": "markdown",
      "metadata": {
        "id": "oBsDq4mnUL0H",
        "colab_type": "text"
      },
      "source": [
        "Na matriz original UxM temos:"
      ]
    },
    {
      "cell_type": "code",
      "metadata": {
        "id": "piKRDXTs7tdX",
        "colab_type": "code",
        "colab": {}
      },
      "source": [
        "uxm_matrix01 = matrix_01(uxm_matrix)\n",
        "nb_users_movies = [sum(uxm_matrix01[i,:]) for i in range(uxm_matrix.shape[0])]"
      ],
      "execution_count": 0,
      "outputs": []
    },
    {
      "cell_type": "code",
      "metadata": {
        "id": "LJOJu1MVAIwk",
        "colab_type": "code",
        "outputId": "f667c7ba-266b-489f-9b60-1fda5405dcdd",
        "colab": {
          "base_uri": "https://localhost:8080/",
          "height": 34
        }
      },
      "source": [
        "print(\"Número mínimo de filmes: \",min(nb_users_movies))"
      ],
      "execution_count": 0,
      "outputs": [
        {
          "output_type": "stream",
          "text": [
            "Número mínimo de filmes:  18.0\n"
          ],
          "name": "stdout"
        }
      ]
    },
    {
      "cell_type": "code",
      "metadata": {
        "id": "u0FMnmvuAPYI",
        "colab_type": "code",
        "outputId": "5cd113f8-7f25-49fc-fc4e-4b483e468542",
        "colab": {
          "base_uri": "https://localhost:8080/",
          "height": 34
        }
      },
      "source": [
        "print(\"Número máximo de filmes: \",max(nb_users_movies))"
      ],
      "execution_count": 0,
      "outputs": [
        {
          "output_type": "stream",
          "text": [
            "Número máximo de filmes:  2283.0\n"
          ],
          "name": "stdout"
        }
      ]
    },
    {
      "cell_type": "code",
      "metadata": {
        "id": "ddtm5OqcAFu6",
        "colab_type": "code",
        "outputId": "666858a1-16bc-4900-f187-05e62d93c4c5",
        "colab": {
          "base_uri": "https://localhost:8080/",
          "height": 297
        }
      },
      "source": [
        "n, bins, patches = plt.hist(nb_users_movies,bins = 30)\n",
        "plt.title(\"Histograma do número de avaliações por usuário\")\n",
        "plt.xlabel('Número de usuários')\n",
        "plt.ylabel('Quantidade de filmes avaliados')\n",
        "plt.tight_layout()"
      ],
      "execution_count": 191,
      "outputs": [
        {
          "output_type": "display_data",
          "data": {
            "image/png": "[encoded data removed]",
            "text/plain": [
              "<Figure size 432x288 with 1 Axes>"
            ]
          },
          "metadata": {
            "tags": []
          }
        }
      ]
    },
    {
      "cell_type": "markdown",
      "metadata": {
        "id": "pPEQwbWeUR6y",
        "colab_type": "text"
      },
      "source": [
        "Na matriz de treinamento temos:"
      ]
    },
    {
      "cell_type": "code",
      "metadata": {
        "id": "Nq0Fnyr3UUEW",
        "colab_type": "code",
        "colab": {}
      },
      "source": [
        "X_train_01 = matrix_01(X_train)\n",
        "nb_users_movies = [sum(X_train_01[i,:]) for i in range(X_train_01.shape[0])]"
      ],
      "execution_count": 0,
      "outputs": []
    },
    {
      "cell_type": "code",
      "metadata": {
        "id": "8nd0603BUlqY",
        "colab_type": "code",
        "outputId": "0831243b-1846-485d-a37f-a8efabf8c6ee",
        "colab": {
          "base_uri": "https://localhost:8080/",
          "height": 34
        }
      },
      "source": [
        "print(\"Número mínimo de filmes: \",min(nb_users_movies))"
      ],
      "execution_count": 0,
      "outputs": [
        {
          "output_type": "stream",
          "text": [
            "Número mínimo de filmes:  14.0\n"
          ],
          "name": "stdout"
        }
      ]
    },
    {
      "cell_type": "code",
      "metadata": {
        "id": "oBkT_5tWUngu",
        "colab_type": "code",
        "outputId": "beb361c5-4737-47f2-ea97-a42010ae9355",
        "colab": {
          "base_uri": "https://localhost:8080/",
          "height": 34
        }
      },
      "source": [
        "print(\"Número máximo de filmes: \",max(nb_users_movies))"
      ],
      "execution_count": 0,
      "outputs": [
        {
          "output_type": "stream",
          "text": [
            "Número máximo de filmes:  1826.0\n"
          ],
          "name": "stdout"
        }
      ]
    },
    {
      "cell_type": "markdown",
      "metadata": {
        "id": "qqtcj1U6U9fG",
        "colab_type": "text"
      },
      "source": [
        "Na matriz de teste temos: "
      ]
    },
    {
      "cell_type": "code",
      "metadata": {
        "id": "CuiFW592VA1m",
        "colab_type": "code",
        "colab": {}
      },
      "source": [
        "X_test_01 = matrix_01(X_test)\n",
        "nb_users_movies = [sum(X_test_01[i,:]) for i in range(X_test_01.shape[0])]"
      ],
      "execution_count": 0,
      "outputs": []
    },
    {
      "cell_type": "code",
      "metadata": {
        "id": "wWx6okFaVJWW",
        "colab_type": "code",
        "outputId": "96709393-785a-4eb3-cf92-b8f16df23b8b",
        "colab": {
          "base_uri": "https://localhost:8080/",
          "height": 34
        }
      },
      "source": [
        "print(\"Número mínimo de filmes: \",min(nb_users_movies))"
      ],
      "execution_count": 0,
      "outputs": [
        {
          "output_type": "stream",
          "text": [
            "Número mínimo de filmes:  4.0\n"
          ],
          "name": "stdout"
        }
      ]
    },
    {
      "cell_type": "code",
      "metadata": {
        "id": "kUUaDNaFVMtn",
        "colab_type": "code",
        "outputId": "29cd4af6-adbb-4235-8d99-dc4c460b9612",
        "colab": {
          "base_uri": "https://localhost:8080/",
          "height": 34
        }
      },
      "source": [
        "print(\"Número máximo de filmes: \",max(nb_users_movies))"
      ],
      "execution_count": 0,
      "outputs": [
        {
          "output_type": "stream",
          "text": [
            "Número máximo de filmes:  457.0\n"
          ],
          "name": "stdout"
        }
      ]
    },
    {
      "cell_type": "markdown",
      "metadata": {
        "id": "UoqFnxUDVett",
        "colab_type": "text"
      },
      "source": [
        "### Avaliações de um filme"
      ]
    },
    {
      "cell_type": "markdown",
      "metadata": {
        "id": "b58xuVYKWIi9",
        "colab_type": "text"
      },
      "source": [
        "Na matriz original temos:"
      ]
    },
    {
      "cell_type": "code",
      "metadata": {
        "id": "N7akw_CjVnEl",
        "colab_type": "code",
        "colab": {}
      },
      "source": [
        "uxm_matrix01 = matrix_01(uxm_matrix)\n",
        "nb_movies_users = [sum(uxm_matrix01[:,i]) for i in range(uxm_matrix.shape[1])]"
      ],
      "execution_count": 0,
      "outputs": []
    },
    {
      "cell_type": "code",
      "metadata": {
        "id": "feLRhGSUV5_s",
        "colab_type": "code",
        "outputId": "57f9cd59-3ad9-451d-deac-5542471c17aa",
        "colab": {
          "base_uri": "https://localhost:8080/",
          "height": 34
        }
      },
      "source": [
        "print(\"Número mínimo de usuários: \",min(nb_movies_users))"
      ],
      "execution_count": 0,
      "outputs": [
        {
          "output_type": "stream",
          "text": [
            "Número mínimo de usuários:  4.0\n"
          ],
          "name": "stdout"
        }
      ]
    },
    {
      "cell_type": "code",
      "metadata": {
        "id": "5Xa7E8HCWBYr",
        "colab_type": "code",
        "outputId": "e1b1d272-2652-4507-96c4-1deb879643f7",
        "colab": {
          "base_uri": "https://localhost:8080/",
          "height": 34
        }
      },
      "source": [
        "print(\"Número máximo de usuários: \",max(nb_movies_users))"
      ],
      "execution_count": 0,
      "outputs": [
        {
          "output_type": "stream",
          "text": [
            "Número máximo de usuários:  3428.0\n"
          ],
          "name": "stdout"
        }
      ]
    },
    {
      "cell_type": "code",
      "metadata": {
        "id": "knoFqUDeWO-q",
        "colab_type": "code",
        "outputId": "fa99668c-8b80-4279-aafc-c36dc4f5972c",
        "colab": {
          "base_uri": "https://localhost:8080/",
          "height": 297
        }
      },
      "source": [
        "n, bins, patches = plt.hist(nb_movies_users,bins = 20)\n",
        "plt.title(\"Histograma do número de filmes avaliados \")\n",
        "plt.xlabel('Número de filmes')\n",
        "plt.ylabel('Quantidade de avaliações')\n",
        "plt.tight_layout()"
      ],
      "execution_count": 0,
      "outputs": [
        {
          "output_type": "display_data",
          "data": {
            "image/png": "[encoded data removed]",
            "text/plain": [
              "<Figure size 432x288 with 1 Axes>"
            ]
          },
          "metadata": {
            "tags": []
          }
        }
      ]
    },
    {
      "cell_type": "markdown",
      "metadata": {
        "id": "kwCH-i1bXqbz",
        "colab_type": "text"
      },
      "source": [
        "Na matriz de treinamento temos:"
      ]
    },
    {
      "cell_type": "code",
      "metadata": {
        "id": "wqzOxrW8Xt60",
        "colab_type": "code",
        "colab": {}
      },
      "source": [
        "X_train_01 = matrix_01(X_train)\n",
        "nb_movies_users = [sum(X_train_01[:,i]) for i in range(X_train.shape[1])]"
      ],
      "execution_count": 0,
      "outputs": []
    },
    {
      "cell_type": "code",
      "metadata": {
        "id": "72k-GjgzX9u6",
        "colab_type": "code",
        "outputId": "c1dbdc77-e4de-4421-8df1-241766067a35",
        "colab": {
          "base_uri": "https://localhost:8080/",
          "height": 34
        }
      },
      "source": [
        "print(\"Número mínimo de usuários: \",min(nb_movies_users))"
      ],
      "execution_count": 0,
      "outputs": [
        {
          "output_type": "stream",
          "text": [
            "Número mínimo de usuários:  3.0\n"
          ],
          "name": "stdout"
        }
      ]
    },
    {
      "cell_type": "code",
      "metadata": {
        "id": "nUOGvam9YA8u",
        "colab_type": "code",
        "outputId": "0ce4f768-c39e-489d-e95c-5a1587c6b60d",
        "colab": {
          "base_uri": "https://localhost:8080/",
          "height": 34
        }
      },
      "source": [
        "print(\"Número máximo de usuários: \",max(nb_movies_users))"
      ],
      "execution_count": 0,
      "outputs": [
        {
          "output_type": "stream",
          "text": [
            "Número máximo de usuários:  2743.0\n"
          ],
          "name": "stdout"
        }
      ]
    },
    {
      "cell_type": "markdown",
      "metadata": {
        "id": "umxtjVXqYD8u",
        "colab_type": "text"
      },
      "source": [
        "Na matriz de teste temos:"
      ]
    },
    {
      "cell_type": "code",
      "metadata": {
        "id": "bOtVv5quYGJM",
        "colab_type": "code",
        "colab": {}
      },
      "source": [
        "X_test_01 = matrix_01(X_test)\n",
        "nb_movies_users = [sum(X_test_01[:,i]) for i in range(X_test.shape[1])]"
      ],
      "execution_count": 0,
      "outputs": []
    },
    {
      "cell_type": "code",
      "metadata": {
        "id": "TqJQzFtbYOEv",
        "colab_type": "code",
        "outputId": "28ea2aed-9a88-4710-d39f-1babdc1c6c4c",
        "colab": {
          "base_uri": "https://localhost:8080/",
          "height": 34
        }
      },
      "source": [
        "print(\"Número mínimo de usuários: \",min(nb_movies_users))"
      ],
      "execution_count": 0,
      "outputs": [
        {
          "output_type": "stream",
          "text": [
            "Número mínimo de usuários:  0.0\n"
          ],
          "name": "stdout"
        }
      ]
    },
    {
      "cell_type": "code",
      "metadata": {
        "id": "asS8ptrIYSdr",
        "colab_type": "code",
        "outputId": "276c9228-3c49-48b0-f666-2528cafc8919",
        "colab": {
          "base_uri": "https://localhost:8080/",
          "height": 34
        }
      },
      "source": [
        "print(\"Número máximo de usuários: \",max(nb_movies_users))"
      ],
      "execution_count": 0,
      "outputs": [
        {
          "output_type": "stream",
          "text": [
            "Número máximo de usuários:  685.0\n"
          ],
          "name": "stdout"
        }
      ]
    },
    {
      "cell_type": "markdown",
      "metadata": {
        "id": "TNWiMTYfY4-A",
        "colab_type": "text"
      },
      "source": [
        "## A média/mediana como recomendação"
      ]
    },
    {
      "cell_type": "markdown",
      "metadata": {
        "id": "24yiXLlxY_lo",
        "colab_type": "text"
      },
      "source": [
        "Considere a média/mediana no conjunto de treinamento X_train. Apesar de simples, essas recomendações costumam errar pouco quando observamos o erro cometido no conjutno de testes X_test. Mesmo sendo exatamente idêntica para todos os usuários. Vejamos alguns exemplos. "
      ]
    },
    {
      "cell_type": "markdown",
      "metadata": {
        "id": "WlWkiNkHZpqA",
        "colab_type": "text"
      },
      "source": [
        "Primeiramente vamos calcular a média/mediana no conjunto de treinamento:"
      ]
    },
    {
      "cell_type": "code",
      "metadata": {
        "id": "zRoAc-qJZvpT",
        "colab_type": "code",
        "colab": {}
      },
      "source": [
        "rec_mediana,rec_media = metrics_geral(X_train)"
      ],
      "execution_count": 0,
      "outputs": []
    },
    {
      "cell_type": "markdown",
      "metadata": {
        "id": "aMv9bti1Z8kV",
        "colab_type": "text"
      },
      "source": [
        "Selecione um usuário de 0 até 6039:"
      ]
    },
    {
      "cell_type": "code",
      "metadata": {
        "id": "LcHrUBKnaBZC",
        "colab_type": "code",
        "colab": {}
      },
      "source": [
        "user = 500"
      ],
      "execution_count": 0,
      "outputs": []
    },
    {
      "cell_type": "markdown",
      "metadata": {
        "id": "OMe-m5PxaDTl",
        "colab_type": "text"
      },
      "source": [
        "Vamos calcular o erro cometido ao se utilizar rec_mediana e rec_media como recomendação:"
      ]
    },
    {
      "cell_type": "code",
      "metadata": {
        "id": "e1fYpr-0aRTF",
        "colab_type": "code",
        "outputId": "56b10ee3-a3b4-426a-a0ee-7d20b1da11bd",
        "colab": {
          "base_uri": "https://localhost:8080/",
          "height": 50
        }
      },
      "source": [
        "row_test = X_test[user,:]\n",
        "distance_mediana = distance(rec_mediana, row_test)\n",
        "distance_media = distance(rec_media,row_test)\n",
        "print(\"Erro ao se recomedar a média: %5.2f\"%(distance_media))\n",
        "print(\"Erro ao se recomedar a mediana: %5.2f\"%(distance_mediana))"
      ],
      "execution_count": 0,
      "outputs": [
        {
          "output_type": "stream",
          "text": [
            "Erro ao se recomedar a média:  1.57\n",
            "Erro ao se recomedar a mediana:  1.36\n"
          ],
          "name": "stdout"
        }
      ]
    },
    {
      "cell_type": "markdown",
      "metadata": {
        "id": "hYoakG6za_k4",
        "colab_type": "text"
      },
      "source": [
        "Repare que essa recomendação vale para todos os usuários! E mesmo assim o erro é pequeno. Altere você mesmo o usuário para verificar o erro cometido em outros casos."
      ]
    },
    {
      "cell_type": "markdown",
      "metadata": {
        "id": "San745E9bQHu",
        "colab_type": "text"
      },
      "source": [
        "Vamos gerar aleatoriamente uma lista de 100 usuários e calcular o erro cometido ao se utilizar a média ou a mediana como recomendação:"
      ]
    },
    {
      "cell_type": "code",
      "metadata": {
        "id": "RLElXZeTbljn",
        "colab_type": "code",
        "outputId": "f58fc9a8-679e-4078-ea85-37fa7f99fdba",
        "colab": {
          "base_uri": "https://localhost:8080/",
          "height": 1730
        }
      },
      "source": [
        "list_users = list(range(X_train.shape[0]))\n",
        "random.shuffle(list_users)\n",
        "list_user = list_users[:100]\n",
        "\n",
        "erro_media=[]\n",
        "erro_mediana=[]\n",
        "for u in list_user:\n",
        "  row_test = X_test[u,:]\n",
        "  distance_mediana = distance(rec_mediana, row_test)\n",
        "  distance_media = distance(rec_media,row_test)\n",
        "  erro_media.append(distance_media)\n",
        "  erro_mediana.append(distance_mediana)\n",
        "  print(\"Usuário: %5d. Erro média: %5.2f.Erro mediana: %5.2f.\"%(u,distance_media, distance_mediana))\n",
        "  \n",
        "erro_media = np.mean(np.array(erro_media))\n",
        "erro_mediana = np.mean(np.array(erro_mediana))\n",
        "\n",
        "print(\"-\"*80)\n",
        "\n",
        "print(\"Erro médio da média: %5.2f. Erro médio da mediana: %5.2f.\"%(erro_media, erro_mediana))"
      ],
      "execution_count": 0,
      "outputs": [
        {
          "output_type": "stream",
          "text": [
            "Usuário:   597. Erro média:  0.53.Erro mediana:  0.88.\n",
            "Usuário:  3233. Erro média:  0.69.Erro mediana:  0.75.\n",
            "Usuário:   360. Erro média:  1.33.Erro mediana:  1.67.\n",
            "Usuário:  5221. Erro média:  0.85.Erro mediana:  1.06.\n",
            "Usuário:   717. Erro média:  0.61.Erro mediana:  0.74.\n",
            "Usuário:    41. Erro média:  0.50.Erro mediana:  0.72.\n",
            "Usuário:  5870. Erro média:  0.90.Erro mediana:  0.95.\n",
            "Usuário:  5571. Erro média:  2.02.Erro mediana:  2.50.\n",
            "Usuário:  1898. Erro média:  0.47.Erro mediana:  0.55.\n",
            "Usuário:  2095. Erro média:  1.67.Erro mediana:  1.32.\n",
            "Usuário:  1319. Erro média:  0.62.Erro mediana:  0.79.\n",
            "Usuário:   859. Erro média:  1.45.Erro mediana:  1.67.\n",
            "Usuário:  2181. Erro média:  0.20.Erro mediana:  0.40.\n",
            "Usuário:  3853. Erro média:  0.38.Erro mediana:  0.41.\n",
            "Usuário:  4669. Erro média:  1.10.Erro mediana:  1.38.\n",
            "Usuário:  5040. Erro média:  1.01.Erro mediana:  1.22.\n",
            "Usuário:  1849. Erro média:  0.76.Erro mediana:  0.95.\n",
            "Usuário:  3104. Erro média:  0.91.Erro mediana:  1.25.\n",
            "Usuário:  3563. Erro média:  0.45.Erro mediana:  0.58.\n",
            "Usuário:  1449. Erro média:  1.01.Erro mediana:  1.14.\n",
            "Usuário:  3173. Erro média:  0.72.Erro mediana:  0.83.\n",
            "Usuário:  1811. Erro média:  1.27.Erro mediana:  1.34.\n",
            "Usuário:  1386. Erro média:  1.12.Erro mediana:  1.11.\n",
            "Usuário:  2744. Erro média:  0.40.Erro mediana:  0.45.\n",
            "Usuário:  1005. Erro média:  0.42.Erro mediana:  0.33.\n",
            "Usuário:  2720. Erro média:  1.71.Erro mediana:  1.29.\n",
            "Usuário:  4941. Erro média:  0.67.Erro mediana:  0.73.\n",
            "Usuário:  2466. Erro média:  1.26.Erro mediana:  1.20.\n",
            "Usuário:  1161. Erro média:  0.61.Erro mediana:  0.84.\n",
            "Usuário:  3531. Erro média:  1.29.Erro mediana:  1.26.\n",
            "Usuário:  3618. Erro média:  1.52.Erro mediana:  1.52.\n",
            "Usuário:  3420. Erro média:  0.08.Erro mediana:  0.00.\n",
            "Usuário:  5699. Erro média:  0.64.Erro mediana:  0.62.\n",
            "Usuário:  2463. Erro média:  0.38.Erro mediana:  0.43.\n",
            "Usuário:   220. Erro média:  0.60.Erro mediana:  0.50.\n",
            "Usuário:  3252. Erro média:  0.48.Erro mediana:  0.59.\n",
            "Usuário:   351. Erro média:  0.74.Erro mediana:  0.81.\n",
            "Usuário:  4701. Erro média:  0.54.Erro mediana:  0.67.\n",
            "Usuário:  3596. Erro média:  0.62.Erro mediana:  0.75.\n",
            "Usuário:  2318. Erro média:  0.33.Erro mediana:  0.23.\n",
            "Usuário:  5685. Erro média:  3.07.Erro mediana:  3.25.\n",
            "Usuário:  1883. Erro média:  0.41.Erro mediana:  0.49.\n",
            "Usuário:  4921. Erro média:  0.74.Erro mediana:  0.85.\n",
            "Usuário:  5199. Erro média:  1.22.Erro mediana:  1.23.\n",
            "Usuário:  1547. Erro média:  1.20.Erro mediana:  1.60.\n",
            "Usuário:  3406. Erro média:  1.91.Erro mediana:  1.75.\n",
            "Usuário:  3301. Erro média:  1.15.Erro mediana:  1.44.\n",
            "Usuário:  1003. Erro média:  0.66.Erro mediana:  0.73.\n",
            "Usuário:  3690. Erro média:  0.79.Erro mediana:  0.95.\n",
            "Usuário:  1132. Erro média:  0.74.Erro mediana:  0.76.\n",
            "Usuário:  1526. Erro média:  1.08.Erro mediana:  1.44.\n",
            "Usuário:  1651. Erro média:  0.48.Erro mediana:  0.50.\n",
            "Usuário:  2257. Erro média:  0.54.Erro mediana:  0.56.\n",
            "Usuário:  5317. Erro média:  0.60.Erro mediana:  0.65.\n",
            "Usuário:  1901. Erro média:  0.75.Erro mediana:  0.74.\n",
            "Usuário:  4781. Erro média:  0.71.Erro mediana:  0.75.\n",
            "Usuário:  3497. Erro média:  1.56.Erro mediana:  1.92.\n",
            "Usuário:  3175. Erro média:  0.80.Erro mediana:  0.80.\n",
            "Usuário:  1355. Erro média:  2.47.Erro mediana:  2.68.\n",
            "Usuário:  5043. Erro média:  1.21.Erro mediana:  1.29.\n",
            "Usuário:  2099. Erro média:  0.48.Erro mediana:  0.55.\n",
            "Usuário:  2007. Erro média:  1.22.Erro mediana:  1.34.\n",
            "Usuário:  4466. Erro média:  0.45.Erro mediana:  0.47.\n",
            "Usuário:  4484. Erro média:  0.98.Erro mediana:  1.10.\n",
            "Usuário:  4190. Erro média:  1.06.Erro mediana:  1.00.\n",
            "Usuário:   464. Erro média:  0.34.Erro mediana:  0.50.\n",
            "Usuário:  3077. Erro média:  2.62.Erro mediana:  2.29.\n",
            "Usuário:  4847. Erro média:  1.01.Erro mediana:  0.82.\n",
            "Usuário:  4023. Erro média:  0.96.Erro mediana:  1.02.\n",
            "Usuário:   615. Erro média:  0.61.Erro mediana:  0.44.\n",
            "Usuário:  5904. Erro média:  1.93.Erro mediana:  2.23.\n",
            "Usuário:  1317. Erro média:  0.50.Erro mediana:  0.60.\n",
            "Usuário:  3667. Erro média:  0.56.Erro mediana:  0.50.\n",
            "Usuário:  2912. Erro média:  0.61.Erro mediana:  0.64.\n",
            "Usuário:  3973. Erro média:  0.48.Erro mediana:  0.48.\n",
            "Usuário:  6022. Erro média:  0.99.Erro mediana:  1.03.\n",
            "Usuário:  3783. Erro média:  0.96.Erro mediana:  0.78.\n",
            "Usuário:  2045. Erro média:  0.60.Erro mediana:  0.82.\n",
            "Usuário:  3972. Erro média:  0.88.Erro mediana:  0.79.\n",
            "Usuário:  3575. Erro média:  0.78.Erro mediana:  0.95.\n",
            "Usuário:  5428. Erro média:  1.34.Erro mediana:  1.58.\n",
            "Usuário:  3052. Erro média:  0.96.Erro mediana:  0.98.\n",
            "Usuário:  5995. Erro média:  1.01.Erro mediana:  1.13.\n",
            "Usuário:  2033. Erro média:  0.66.Erro mediana:  0.50.\n",
            "Usuário:  2185. Erro média:  1.08.Erro mediana:  1.07.\n",
            "Usuário:  3750. Erro média:  0.99.Erro mediana:  1.09.\n",
            "Usuário:   904. Erro média:  0.49.Erro mediana:  0.52.\n",
            "Usuário:  2898. Erro média:  0.92.Erro mediana:  1.00.\n",
            "Usuário:  2593. Erro média:  1.37.Erro mediana:  1.89.\n",
            "Usuário:  3847. Erro média:  0.80.Erro mediana:  0.88.\n",
            "Usuário:  4581. Erro média:  0.21.Erro mediana:  0.20.\n",
            "Usuário:  5532. Erro média:  0.66.Erro mediana:  1.50.\n",
            "Usuário:  2987. Erro média:  0.81.Erro mediana:  0.77.\n",
            "Usuário:   653. Erro média:  0.76.Erro mediana:  0.92.\n",
            "Usuário:  1082. Erro média:  1.46.Erro mediana:  1.33.\n",
            "Usuário:  2663. Erro média:  0.54.Erro mediana:  0.66.\n",
            "Usuário:  3060. Erro média:  1.17.Erro mediana:  1.43.\n",
            "Usuário:  1106. Erro média:  0.47.Erro mediana:  0.50.\n",
            "Usuário:  4805. Erro média:  0.84.Erro mediana:  0.78.\n",
            "Usuário:  3876. Erro média:  0.42.Erro mediana:  0.25.\n",
            "--------------------------------------------------------------------------------\n",
            "Erro médio da média:  0.90. Erro médio da mediana:  0.98.\n"
          ],
          "name": "stdout"
        }
      ]
    },
    {
      "cell_type": "markdown",
      "metadata": {
        "id": "a4bxRCL5dnLb",
        "colab_type": "text"
      },
      "source": [
        "Observação: caso você esteja utilizando o colab, ao clicar para executar novamente a célula anterior uma nova lista aleatória é gerada. Te convenci que a média é uma boa recomendação?  Caso pense em algum outro algoritmo de recomendação não se esqueça de verificar se ele é superior a média. Agora pense porque não utilizar a média como recomedação."
      ]
    },
    {
      "cell_type": "markdown",
      "metadata": {
        "id": "4BjLc7FFtpKp",
        "colab_type": "text"
      },
      "source": [
        "## Teste 0: fazendo a recomedação para um único usuário"
      ]
    },
    {
      "cell_type": "markdown",
      "metadata": {
        "id": "nSBsEELv1jp7",
        "colab_type": "text"
      },
      "source": [
        "O banco possui 6040 usuários, com índices indo de 0 até 6039 que podem ser utilizados para conferência do algoritmo."
      ]
    },
    {
      "cell_type": "markdown",
      "metadata": {
        "id": "WY6kCw2o4cpL",
        "colab_type": "text"
      },
      "source": [
        "Calculando a recomedação média:"
      ]
    },
    {
      "cell_type": "code",
      "metadata": {
        "id": "xTz76Xhh3MCw",
        "colab_type": "code",
        "colab": {}
      },
      "source": [
        "_,mean_X_train = metrics_geral(X_train)"
      ],
      "execution_count": 0,
      "outputs": []
    },
    {
      "cell_type": "markdown",
      "metadata": {
        "id": "QJdXf6LLxQvP",
        "colab_type": "text"
      },
      "source": [
        "Selecionando um usuário entre 0 e 6039:"
      ]
    },
    {
      "cell_type": "code",
      "metadata": {
        "id": "8BMUC9dAxUFJ",
        "colab_type": "code",
        "colab": {}
      },
      "source": [
        "user = 5000"
      ],
      "execution_count": 0,
      "outputs": []
    },
    {
      "cell_type": "markdown",
      "metadata": {
        "id": "c8Rh106hxq0H",
        "colab_type": "text"
      },
      "source": [
        "Número de avaliações desse usuário no conjunto de treinamento:"
      ]
    },
    {
      "cell_type": "code",
      "metadata": {
        "id": "I-yn-WkixgvY",
        "colab_type": "code",
        "outputId": "19be5eed-b0e6-4397-b8dc-9eddc9f5dd5c",
        "colab": {
          "base_uri": "https://localhost:8080/",
          "height": 34
        }
      },
      "source": [
        "print(np.count_nonzero(X_train[user,:]))"
      ],
      "execution_count": 0,
      "outputs": [
        {
          "output_type": "stream",
          "text": [
            "180\n"
          ],
          "name": "stdout"
        }
      ]
    },
    {
      "cell_type": "markdown",
      "metadata": {
        "id": "-sF8LFrIxzHf",
        "colab_type": "text"
      },
      "source": [
        "Número de avaliações desse usuário no conjunto de teste:"
      ]
    },
    {
      "cell_type": "code",
      "metadata": {
        "id": "NkFtWjaOx6UQ",
        "colab_type": "code",
        "outputId": "346c35e0-9dab-4076-929a-80fce0c794aa",
        "colab": {
          "base_uri": "https://localhost:8080/",
          "height": 34
        }
      },
      "source": [
        "print(np.count_nonzero(X_test[user,:]))"
      ],
      "execution_count": 0,
      "outputs": [
        {
          "output_type": "stream",
          "text": [
            "45\n"
          ],
          "name": "stdout"
        }
      ]
    },
    {
      "cell_type": "markdown",
      "metadata": {
        "id": "12Ku2Pskx_6C",
        "colab_type": "text"
      },
      "source": [
        "Fazendo a avaliação com os seguintes parâmetros:\n",
        "\n",
        "Número mínimo de filmes necessários para se comparar dois usuários: 10\n",
        "\n",
        "Número mínimo de avaliações em um grupo de usuários relacionados sobre um filme para fazer a recomendação: 3\n",
        "\n",
        "Porcentagem do primeiro grupo em relação ao total: 0.1\n",
        "\n",
        "Porcentagem do segundo grupo em relação ao total: 0.2\n",
        "\n",
        "Porcentagem do terceiro grupo em relação ao total: 0.4\n"
      ]
    },
    {
      "cell_type": "code",
      "metadata": {
        "id": "vRs0PhHdyUy3",
        "colab_type": "code",
        "colab": {}
      },
      "source": [
        "recomendacao = recomendation_row(user,X_train,10,3,0.1,0.2,0.3,mean_X_train)"
      ],
      "execution_count": 0,
      "outputs": []
    },
    {
      "cell_type": "markdown",
      "metadata": {
        "id": "KpsPwpNdy7eJ",
        "colab_type": "text"
      },
      "source": [
        "Calculando o erro cometido ao se utilizar o algoritmo:"
      ]
    },
    {
      "cell_type": "code",
      "metadata": {
        "id": "laGMYCx0zAGF",
        "colab_type": "code",
        "outputId": "1b2600cc-250f-417a-b640-efc715755629",
        "colab": {
          "base_uri": "https://localhost:8080/",
          "height": 34
        }
      },
      "source": [
        "row1 = recomendacao\n",
        "row2 = X_test[user,:]\n",
        "print(\"Erro cometido: %3.2f.\"%(distance(row1,row2)))"
      ],
      "execution_count": 0,
      "outputs": [
        {
          "output_type": "stream",
          "text": [
            "Erro cometido: 0.78.\n"
          ],
          "name": "stdout"
        }
      ]
    },
    {
      "cell_type": "markdown",
      "metadata": {
        "id": "DnXFdVGJzZQ6",
        "colab_type": "text"
      },
      "source": [
        "Mostrando lado a lado a recomendação feita pelo algoritmo comparada com a real avaliação no conjunto de teste:"
      ]
    },
    {
      "cell_type": "code",
      "metadata": {
        "id": "DMnEa-XfzkZE",
        "colab_type": "code",
        "outputId": "7f28450c-65d3-4250-fed3-54cecfa2d869",
        "colab": {
          "base_uri": "https://localhost:8080/",
          "height": 773
        }
      },
      "source": [
        "row_test = X_test[user,:]\n",
        "\n",
        "for index_movie in range(X_train.shape[1]):\n",
        "  if row_test[index_movie]>0:\n",
        "    print(\"Filme: %5d. Avaliação original: %3.2f. Recomendação: %3.2f.\"\n",
        "          %(index_movie,row_test[index_movie], recomendacao[index_movie]))"
      ],
      "execution_count": 0,
      "outputs": [
        {
          "output_type": "stream",
          "text": [
            "Filme:     1. Avaliação original: 4.00. Recomendação: 3.78.\n",
            "Filme:    28. Avaliação original: 5.00. Recomendação: 4.56.\n",
            "Filme:   327. Avaliação original: 3.00. Recomendação: 3.58.\n",
            "Filme:   329. Avaliação original: 3.00. Recomendação: 3.72.\n",
            "Filme:   332. Avaliação original: 3.00. Recomendação: 4.20.\n",
            "Filme:   333. Avaliação original: 5.00. Recomendação: 4.03.\n",
            "Filme:   340. Avaliação original: 3.00. Recomendação: 4.19.\n",
            "Filme:   475. Avaliação original: 3.00. Recomendação: 4.21.\n",
            "Filme:   503. Avaliação original: 3.00. Recomendação: 4.00.\n",
            "Filme:   504. Avaliação original: 5.00. Recomendação: 4.35.\n",
            "Filme:   549. Avaliação original: 4.00. Recomendação: 4.33.\n",
            "Filme:   763. Avaliação original: 5.00. Recomendação: 4.50.\n",
            "Filme:   767. Avaliação original: 3.00. Recomendação: 4.56.\n",
            "Filme:   775. Avaliação original: 4.00. Recomendação: 4.48.\n",
            "Filme:   794. Avaliação original: 5.00. Recomendação: 3.89.\n",
            "Filme:   807. Avaliação original: 4.00. Recomendação: 4.53.\n",
            "Filme:   812. Avaliação original: 5.00. Recomendação: 4.67.\n",
            "Filme:   876. Avaliação original: 5.00. Recomendação: 4.40.\n",
            "Filme:   880. Avaliação original: 5.00. Recomendação: 4.12.\n",
            "Filme:  1008. Avaliação original: 5.00. Recomendação: 4.48.\n",
            "Filme:  1258. Avaliação original: 4.00. Recomendação: 4.00.\n",
            "Filme:  1422. Avaliação original: 3.00. Recomendação: 4.09.\n",
            "Filme:  1432. Avaliação original: 3.00. Recomendação: 3.50.\n",
            "Filme:  1828. Avaliação original: 5.00. Recomendação: 3.93.\n",
            "Filme:  1856. Avaliação original: 5.00. Recomendação: 3.77.\n",
            "Filme:  1934. Avaliação original: 4.00. Recomendação: 3.71.\n",
            "Filme:  1950. Avaliação original: 5.00. Recomendação: 3.79.\n",
            "Filme:  1980. Avaliação original: 5.00. Recomendação: 4.53.\n",
            "Filme:  1989. Avaliação original: 4.00. Recomendação: 4.15.\n",
            "Filme:  1992. Avaliação original: 2.00. Recomendação: 4.27.\n",
            "Filme:  2024. Avaliação original: 5.00. Recomendação: 3.09.\n",
            "Filme:  2178. Avaliação original: 5.00. Recomendação: 4.19.\n",
            "Filme:  2180. Avaliação original: 4.00. Recomendação: 3.00.\n",
            "Filme:  2262. Avaliação original: 4.00. Recomendação: 3.74.\n",
            "Filme:  2305. Avaliação original: 5.00. Recomendação: 3.91.\n",
            "Filme:  2390. Avaliação original: 5.00. Recomendação: 4.62.\n",
            "Filme:  2568. Avaliação original: 3.00. Recomendação: 2.67.\n",
            "Filme:  2582. Avaliação original: 4.00. Recomendação: 4.00.\n",
            "Filme:  2849. Avaliação original: 3.00. Recomendação: 3.92.\n",
            "Filme:  2953. Avaliação original: 4.00. Recomendação: 3.57.\n",
            "Filme:  3012. Avaliação original: 4.00. Recomendação: 4.50.\n",
            "Filme:  3153. Avaliação original: 4.00. Recomendação: 4.17.\n",
            "Filme:  3222. Avaliação original: 3.00. Recomendação: 3.13.\n",
            "Filme:  3228. Avaliação original: 2.00. Recomendação: 3.33.\n",
            "Filme:  3381. Avaliação original: 3.00. Recomendação: 2.40.\n"
          ],
          "name": "stdout"
        }
      ]
    },
    {
      "cell_type": "markdown",
      "metadata": {
        "id": "BfxqQ4l-1dP2",
        "colab_type": "text"
      },
      "source": [
        "Teste com outros usuários você mesmo! Altere os parâmetros da recomendação e consiga um resultado melhor! Procure por usuários com diferentes avaliações e observe você mesmo a performance do algoritmo."
      ]
    },
    {
      "cell_type": "markdown",
      "metadata": {
        "id": "8Etp0I4FlbTa",
        "colab_type": "text"
      },
      "source": [
        "## Teste1: 100 usuários com mais avaliações"
      ]
    },
    {
      "cell_type": "markdown",
      "metadata": {
        "id": "8Nnl4I_YqY6U",
        "colab_type": "text"
      },
      "source": [
        "Criando a recomendação média baseada no conjunto de treinamento:"
      ]
    },
    {
      "cell_type": "code",
      "metadata": {
        "id": "-J33NuMGl-IW",
        "colab_type": "code",
        "colab": {}
      },
      "source": [
        "_,mean_X_train = metrics_geral(X_train)"
      ],
      "execution_count": 0,
      "outputs": []
    },
    {
      "cell_type": "markdown",
      "metadata": {
        "id": "ABmt21a3qeLR",
        "colab_type": "text"
      },
      "source": [
        "Ordenando os usuários por número de filmes avaliados:"
      ]
    },
    {
      "cell_type": "code",
      "metadata": {
        "id": "CWAG5fgrmE_c",
        "colab_type": "code",
        "colab": {}
      },
      "source": [
        "list_users = orderby_bestusers(X_train)"
      ],
      "execution_count": 0,
      "outputs": []
    },
    {
      "cell_type": "markdown",
      "metadata": {
        "id": "oE2pmbs2loGb",
        "colab_type": "text"
      },
      "source": [
        "Aplicação do algoritmo nos cem usuários com mais avalições de filmes.\n",
        "<br><br>\n",
        "\n",
        "Parâmetros:\n",
        "\n",
        "Lista de usuários testados = list_users[:100], que corresponde aos 100 usuários com mais avaliações no banco de dados.\n",
        "\n",
        "Matriz para treinamento: X_train, com 80% das avaliações originais do banco.\n",
        "\n",
        "Número mínimo para comparação entre dois usuários considerado: 10\n",
        "\n",
        "Número de grupos: 3\n",
        "\n",
        "Porcentagem do tamanho do grupo 1: 0.1\n",
        "\n",
        "Porcentagem do tamanho do grupo 2: 0.2\n",
        "\n",
        "Porcentagem do tamanho do grupo 3: 0.4\n",
        "\n",
        "Recomendação da média calcula em X_train dada por: mean_X_train\n",
        "\n",
        "Matriz para teste: X_test, com 20% das avaliações originais do banco\n"
      ]
    },
    {
      "cell_type": "code",
      "metadata": {
        "id": "kqroGzWimI8o",
        "colab_type": "code",
        "outputId": "245e3b75-4fff-491e-8549-aa4a665c68ec",
        "colab": {
          "base_uri": "https://localhost:8080/",
          "height": 1831
        }
      },
      "source": [
        "_,_,_=recomendation_listrows(\n",
        "        list_users[:100],X_train,10,3,0.1,0.2,0.4,mean_X_train, X_test)"
      ],
      "execution_count": 183,
      "outputs": [
        {
          "output_type": "stream",
          "text": [
            "Em treinamento...\n",
            "--------------------------------------------------------------------------------\n",
            "Linha     0. Erro algoritmo:  0.60. Erro média:  0.62.\n",
            "Linha     1. Erro algoritmo:  1.24. Erro média:  1.28.\n",
            "Linha     2. Erro algoritmo:  0.44. Erro média:  0.77.\n",
            "Linha     3. Erro algoritmo:  1.01. Erro média:  1.05.\n",
            "Linha     4. Erro algoritmo:  0.83. Erro média:  1.18.\n",
            "Linha     5. Erro algoritmo:  0.91. Erro média:  1.13.\n",
            "Linha     6. Erro algoritmo:  0.50. Erro média:  0.69.\n",
            "Linha     7. Erro algoritmo:  1.03. Erro média:  1.04.\n",
            "Linha     8. Erro algoritmo:  0.92. Erro média:  1.60.\n",
            "Linha     9. Erro algoritmo:  0.74. Erro média:  0.70.\n",
            "Linha    10. Erro algoritmo:  1.12. Erro média:  1.44.\n",
            "Linha    11. Erro algoritmo:  1.01. Erro média:  1.10.\n",
            "Linha    12. Erro algoritmo:  0.49. Erro média:  0.50.\n",
            "Linha    13. Erro algoritmo:  0.97. Erro média:  1.23.\n",
            "Linha    14. Erro algoritmo:  0.57. Erro média:  0.87.\n",
            "Linha    15. Erro algoritmo:  0.81. Erro média:  1.14.\n",
            "Linha    16. Erro algoritmo:  0.48. Erro média:  0.49.\n",
            "Linha    17. Erro algoritmo:  0.33. Erro média:  0.34.\n",
            "Linha    18. Erro algoritmo:  1.45. Erro média:  1.50.\n",
            "Linha    19. Erro algoritmo:  0.93. Erro média:  0.90.\n",
            "Linha    20. Erro algoritmo:  0.77. Erro média:  0.84.\n",
            "Linha    21. Erro algoritmo:  0.69. Erro média:  0.89.\n",
            "Linha    22. Erro algoritmo:  0.81. Erro média:  0.69.\n",
            "Linha    23. Erro algoritmo:  0.94. Erro média:  1.28.\n",
            "Linha    24. Erro algoritmo:  1.15. Erro média:  1.07.\n",
            "Linha    25. Erro algoritmo:  1.12. Erro média:  1.27.\n",
            "Linha    26. Erro algoritmo:  0.60. Erro média:  0.73.\n",
            "Linha    27. Erro algoritmo:  0.49. Erro média:  0.55.\n",
            "Linha    28. Erro algoritmo:  0.60. Erro média:  0.94.\n",
            "Linha    29. Erro algoritmo:  0.50. Erro média:  0.53.\n",
            "Linha    30. Erro algoritmo:  0.93. Erro média:  1.00.\n",
            "Linha    31. Erro algoritmo:  0.75. Erro média:  0.79.\n",
            "Linha    32. Erro algoritmo:  1.59. Erro média:  1.93.\n",
            "Linha    33. Erro algoritmo:  0.79. Erro média:  0.89.\n",
            "Linha    34. Erro algoritmo:  1.03. Erro média:  1.90.\n",
            "Linha    35. Erro algoritmo:  0.76. Erro média:  0.84.\n",
            "Linha    36. Erro algoritmo:  0.61. Erro média:  0.99.\n",
            "Linha    37. Erro algoritmo:  0.82. Erro média:  1.03.\n",
            "Linha    38. Erro algoritmo:  0.46. Erro média:  0.51.\n",
            "Linha    39. Erro algoritmo:  1.10. Erro média:  1.69.\n",
            "Linha    40. Erro algoritmo:  1.77. Erro média:  1.72.\n",
            "Linha    41. Erro algoritmo:  0.52. Erro média:  0.60.\n",
            "Linha    42. Erro algoritmo:  1.02. Erro média:  1.01.\n",
            "Linha    43. Erro algoritmo:  0.52. Erro média:  0.75.\n",
            "Linha    44. Erro algoritmo:  0.70. Erro média:  0.85.\n",
            "Linha    45. Erro algoritmo:  1.02. Erro média:  0.98.\n",
            "Linha    46. Erro algoritmo:  0.59. Erro média:  0.58.\n",
            "Linha    47. Erro algoritmo:  1.50. Erro média:  1.59.\n",
            "Linha    48. Erro algoritmo:  0.60. Erro média:  0.71.\n",
            "Linha    49. Erro algoritmo:  0.43. Erro média:  0.36.\n",
            "Linha    50. Erro algoritmo:  1.49. Erro média:  2.43.\n",
            "Linha    51. Erro algoritmo:  0.62. Erro média:  0.76.\n",
            "Linha    52. Erro algoritmo:  0.51. Erro média:  0.56.\n",
            "Linha    53. Erro algoritmo:  0.64. Erro média:  0.69.\n",
            "Linha    54. Erro algoritmo:  0.42. Erro média:  0.48.\n",
            "Linha    55. Erro algoritmo:  1.09. Erro média:  1.38.\n",
            "Linha    56. Erro algoritmo:  0.92. Erro média:  0.97.\n",
            "Linha    57. Erro algoritmo:  0.79. Erro média:  0.82.\n",
            "Linha    58. Erro algoritmo:  1.23. Erro média:  1.20.\n",
            "Linha    59. Erro algoritmo:  1.06. Erro média:  1.05.\n",
            "Linha    60. Erro algoritmo:  0.66. Erro média:  0.80.\n",
            "Linha    61. Erro algoritmo:  1.32. Erro média:  1.49.\n",
            "Linha    62. Erro algoritmo:  0.96. Erro média:  1.79.\n",
            "Linha    63. Erro algoritmo:  0.87. Erro média:  1.18.\n",
            "Linha    64. Erro algoritmo:  1.16. Erro média:  1.22.\n",
            "Linha    65. Erro algoritmo:  0.74. Erro média:  0.76.\n",
            "Linha    66. Erro algoritmo:  0.56. Erro média:  0.67.\n",
            "Linha    67. Erro algoritmo:  0.36. Erro média:  0.33.\n",
            "Linha    68. Erro algoritmo:  0.67. Erro média:  0.67.\n",
            "Linha    69. Erro algoritmo:  1.40. Erro média:  1.40.\n",
            "Linha    70. Erro algoritmo:  0.63. Erro média:  0.53.\n",
            "Linha    71. Erro algoritmo:  0.89. Erro média:  0.95.\n",
            "Linha    72. Erro algoritmo:  1.13. Erro média:  1.35.\n",
            "Linha    73. Erro algoritmo:  0.55. Erro média:  0.62.\n",
            "Linha    74. Erro algoritmo:  0.79. Erro média:  0.78.\n",
            "Linha    75. Erro algoritmo:  0.74. Erro média:  0.74.\n",
            "Linha    76. Erro algoritmo:  1.08. Erro média:  1.19.\n",
            "Linha    77. Erro algoritmo:  0.94. Erro média:  0.90.\n",
            "Linha    78. Erro algoritmo:  0.72. Erro média:  0.78.\n",
            "Linha    79. Erro algoritmo:  1.39. Erro média:  1.33.\n",
            "Linha    80. Erro algoritmo:  0.90. Erro média:  0.92.\n",
            "Linha    81. Erro algoritmo:  0.59. Erro média:  0.68.\n",
            "Linha    82. Erro algoritmo:  0.46. Erro média:  0.60.\n",
            "Linha    83. Erro algoritmo:  0.60. Erro média:  0.84.\n",
            "Linha    84. Erro algoritmo:  0.74. Erro média:  0.76.\n",
            "Linha    85. Erro algoritmo:  0.58. Erro média:  0.56.\n",
            "Linha    86. Erro algoritmo:  1.22. Erro média:  1.46.\n",
            "Linha    87. Erro algoritmo:  0.47. Erro média:  0.46.\n",
            "Linha    88. Erro algoritmo:  0.63. Erro média:  0.80.\n",
            "Linha    89. Erro algoritmo:  0.62. Erro média:  0.67.\n",
            "Linha    90. Erro algoritmo:  1.06. Erro média:  1.14.\n",
            "Linha    91. Erro algoritmo:  0.52. Erro média:  0.54.\n",
            "Linha    92. Erro algoritmo:  0.89. Erro média:  1.06.\n",
            "Linha    93. Erro algoritmo:  1.11. Erro média:  1.07.\n",
            "Linha    94. Erro algoritmo:  0.50. Erro média:  0.55.\n",
            "Linha    95. Erro algoritmo:  0.43. Erro média:  0.61.\n",
            "Linha    96. Erro algoritmo:  0.68. Erro média:  0.78.\n",
            "Linha    97. Erro algoritmo:  1.41. Erro média:  1.36.\n",
            "Linha    98. Erro algoritmo:  0.97. Erro média:  1.10.\n",
            "Linha    99. Erro algoritmo:  0.80. Erro média:  0.86.\n",
            "--------------------------------------------------------------------------------\n",
            "Fim do treinamento!\n",
            "--------------------------------------------------------------------------------\n",
            "Erro algoritmo:  0.83. Erro média:  0.96.\n",
            "--------------------------------------------------------------------------------\n",
            "Tempo total decorrido:   31 minutos.\n"
          ],
          "name": "stdout"
        }
      ]
    },
    {
      "cell_type": "markdown",
      "metadata": {
        "id": "arIxufhpmyPH",
        "colab_type": "text"
      },
      "source": [
        "## Teste2: 100 usuários escolhidos aleatoriamente"
      ]
    },
    {
      "cell_type": "markdown",
      "metadata": {
        "id": "vFOgibgnrF79",
        "colab_type": "text"
      },
      "source": [
        "Criando a lista de todos os usuários do conjunto de treinamento:"
      ]
    },
    {
      "cell_type": "code",
      "metadata": {
        "id": "y4ZS3MfnnLOn",
        "colab_type": "code",
        "colab": {}
      },
      "source": [
        "list_users =list(range(X_train.shape[0]))\n"
      ],
      "execution_count": 0,
      "outputs": []
    },
    {
      "cell_type": "markdown",
      "metadata": {
        "id": "MpaJVxKIrKsj",
        "colab_type": "text"
      },
      "source": [
        "Embaralhando a lista dos usuários para escolher aleatoriamente:"
      ]
    },
    {
      "cell_type": "code",
      "metadata": {
        "id": "hN_Vm9AXus9L",
        "colab_type": "code",
        "colab": {}
      },
      "source": [
        "random.shuffle(list_users)"
      ],
      "execution_count": 0,
      "outputs": []
    },
    {
      "cell_type": "markdown",
      "metadata": {
        "id": "xQr5T3NpnD53",
        "colab_type": "text"
      },
      "source": [
        "Aplicação do algoritmo nos cem usuários com mais avalições de filmes.\n",
        "<br><br>\n",
        "\n",
        "Parâmetros:\n",
        "\n",
        "Lista de usuários testados = list_users[:100], que corresponde a 100 usuários escolhidos aleatoriamente. \n",
        "\n",
        "Matriz para treinamento: X_train, com 80% das avaliações originais do banco.\n",
        "\n",
        "Número mínimo para comparação entre dois usuários considerado: 10\n",
        "\n",
        "Número de grupos: 3\n",
        "\n",
        "Porcentagem do tamanho do grupo 1: 0.1\n",
        "\n",
        "Porcentagem do tamanho do grupo 2: 0.2\n",
        "\n",
        "Porcentagem do tamanho do grupo 3: 0.4\n",
        "\n",
        "Recomendação da média calcula em X_train dada por: mean_X_train\n",
        "\n",
        "Matriz para teste: X_test, com 20% das avaliações originais do banco"
      ]
    },
    {
      "cell_type": "code",
      "metadata": {
        "id": "hjmxw_V2nPZN",
        "colab_type": "code",
        "outputId": "efba7fc4-e2ce-4c86-c6a7-a80fe0c0b3aa",
        "colab": {
          "base_uri": "https://localhost:8080/",
          "height": 1831
        }
      },
      "source": [
        "_,_,_=recomendation_listrows(\n",
        "        list_users[:100],X_train,10,3,0.1,0.2,0.4,mean_X_train, X_test)"
      ],
      "execution_count": 0,
      "outputs": [
        {
          "output_type": "stream",
          "text": [
            "Em treinamento...\n",
            "--------------------------------------------------------------------------------\n",
            "Linha     0. Erro algoritmo:  0.78. Erro média:  0.77.\n",
            "Linha     1. Erro algoritmo:  2.18. Erro média:  3.12.\n",
            "Linha     2. Erro algoritmo:  0.74. Erro média:  0.90.\n",
            "Linha     3. Erro algoritmo:  0.55. Erro média:  0.59.\n",
            "Linha     4. Erro algoritmo:  1.20. Erro média:  1.29.\n",
            "Linha     5. Erro algoritmo:  1.12. Erro média:  1.20.\n",
            "Linha     6. Erro algoritmo:  1.39. Erro média:  0.90.\n",
            "Linha     7. Erro algoritmo:  1.24. Erro média:  2.34.\n",
            "Linha     8. Erro algoritmo:  0.67. Erro média:  0.68.\n",
            "Linha     9. Erro algoritmo:  0.79. Erro média:  1.18.\n",
            "Linha    10. Erro algoritmo:  1.16. Erro média:  1.40.\n",
            "Linha    11. Erro algoritmo:  1.88. Erro média:  1.72.\n",
            "Linha    12. Erro algoritmo:  0.51. Erro média:  0.70.\n",
            "Linha    13. Erro algoritmo:  0.61. Erro média:  0.99.\n",
            "Linha    14. Erro algoritmo:  0.53. Erro média:  0.63.\n",
            "Linha    15. Erro algoritmo:  0.66. Erro média:  0.75.\n",
            "Linha    16. Erro algoritmo:  0.80. Erro média:  1.11.\n",
            "Linha    17. Erro algoritmo:  0.75. Erro média:  0.78.\n",
            "Linha    18. Erro algoritmo:  1.39. Erro média:  1.19.\n",
            "Linha    19. Erro algoritmo:  0.82. Erro média:  0.73.\n",
            "Linha    20. Erro algoritmo:  0.68. Erro média:  0.80.\n",
            "Linha    21. Erro algoritmo:  1.37. Erro média:  0.94.\n",
            "Linha    22. Erro algoritmo:  0.76. Erro média:  0.82.\n",
            "Linha    23. Erro algoritmo:  1.00. Erro média:  0.93.\n",
            "Linha    24. Erro algoritmo:  0.21. Erro média:  0.75.\n",
            "Linha    25. Erro algoritmo:  1.45. Erro média:  1.28.\n",
            "Linha    26. Erro algoritmo:  0.39. Erro média:  0.23.\n",
            "Linha    27. Erro algoritmo:  1.10. Erro média:  1.13.\n",
            "Linha    28. Erro algoritmo:  0.74. Erro média:  0.70.\n",
            "Linha    29. Erro algoritmo:  0.66. Erro média:  0.73.\n",
            "Linha    30. Erro algoritmo:  1.16. Erro média:  1.39.\n",
            "Linha    31. Erro algoritmo:  0.67. Erro média:  0.72.\n",
            "Linha    32. Erro algoritmo:  1.09. Erro média:  1.54.\n",
            "Linha    33. Erro algoritmo:  2.29. Erro média:  1.90.\n",
            "Linha    34. Erro algoritmo:  0.40. Erro média:  0.44.\n",
            "Linha    35. Erro algoritmo:  1.14. Erro média:  0.93.\n",
            "Linha    36. Erro algoritmo:  1.24. Erro média:  1.51.\n",
            "Linha    37. Erro algoritmo:  0.39. Erro média:  0.43.\n",
            "Linha    38. Erro algoritmo:  0.94. Erro média:  1.52.\n",
            "Linha    39. Erro algoritmo:  0.82. Erro média:  1.52.\n",
            "Linha    40. Erro algoritmo:  0.66. Erro média:  0.74.\n",
            "Linha    41. Erro algoritmo:  1.67. Erro média:  1.27.\n",
            "Linha    42. Erro algoritmo:  1.77. Erro média:  1.92.\n",
            "Linha    43. Erro algoritmo:  0.69. Erro média:  0.44.\n",
            "Linha    44. Erro algoritmo:  0.66. Erro média:  0.55.\n",
            "Linha    45. Erro algoritmo:  1.27. Erro média:  1.28.\n",
            "Linha    46. Erro algoritmo:  0.76. Erro média:  0.84.\n",
            "Linha    47. Erro algoritmo:  0.92. Erro média:  0.90.\n",
            "Linha    48. Erro algoritmo:  1.38. Erro média:  1.58.\n",
            "Linha    49. Erro algoritmo:  1.08. Erro média:  1.17.\n",
            "Linha    50. Erro algoritmo:  1.21. Erro média:  1.10.\n",
            "Linha    51. Erro algoritmo:  0.44. Erro média:  0.55.\n",
            "Linha    52. Erro algoritmo:  0.56. Erro média:  0.75.\n",
            "Linha    53. Erro algoritmo:  0.77. Erro média:  0.84.\n",
            "Linha    54. Erro algoritmo:  0.94. Erro média:  0.91.\n",
            "Linha    55. Erro algoritmo:  0.49. Erro média:  0.44.\n",
            "Linha    56. Erro algoritmo:  0.73. Erro média:  0.81.\n",
            "Linha    57. Erro algoritmo:  0.87. Erro média:  0.80.\n",
            "Linha    58. Erro algoritmo:  0.77. Erro média:  0.84.\n",
            "Linha    59. Erro algoritmo:  0.64. Erro média:  0.83.\n",
            "Linha    60. Erro algoritmo:  2.68. Erro média:  2.68.\n",
            "Linha    61. Erro algoritmo:  0.67. Erro média:  0.77.\n",
            "Linha    62. Erro algoritmo:  0.44. Erro média:  0.51.\n",
            "Linha    63. Erro algoritmo:  0.75. Erro média:  0.83.\n",
            "Linha    64. Erro algoritmo:  0.28. Erro média:  0.30.\n",
            "Linha    65. Erro algoritmo:  2.26. Erro média:  1.99.\n",
            "Linha    66. Erro algoritmo:  0.69. Erro média:  0.57.\n",
            "Linha    67. Erro algoritmo:  0.90. Erro média:  1.11.\n",
            "Linha    68. Erro algoritmo:  0.32. Erro média:  0.37.\n",
            "Linha    69. Erro algoritmo:  0.46. Erro média:  0.61.\n",
            "Linha    70. Erro algoritmo:  0.90. Erro média:  1.14.\n",
            "Linha    71. Erro algoritmo:  0.56. Erro média:  0.98.\n",
            "Linha    72. Erro algoritmo:  0.61. Erro média:  0.58.\n",
            "Linha    73. Erro algoritmo:  2.42. Erro média:  2.11.\n",
            "Linha    74. Erro algoritmo:  0.33. Erro média:  0.32.\n",
            "Linha    75. Erro algoritmo:  0.37. Erro média:  0.59.\n",
            "Linha    76. Erro algoritmo:  0.89. Erro média:  0.89.\n",
            "Linha    77. Erro algoritmo:  0.97. Erro média:  1.02.\n",
            "Linha    78. Erro algoritmo:  1.37. Erro média:  1.61.\n",
            "Linha    79. Erro algoritmo:  0.94. Erro média:  2.58.\n",
            "Linha    80. Erro algoritmo:  0.17. Erro média:  0.20.\n",
            "Linha    81. Erro algoritmo:  0.39. Erro média:  0.39.\n",
            "Linha    82. Erro algoritmo:  0.29. Erro média:  0.30.\n",
            "Linha    83. Erro algoritmo:  0.54. Erro média:  0.40.\n",
            "Linha    84. Erro algoritmo:  1.03. Erro média:  1.17.\n",
            "Linha    85. Erro algoritmo:  0.50. Erro média:  1.03.\n",
            "Linha    86. Erro algoritmo:  1.23. Erro média:  1.13.\n",
            "Linha    87. Erro algoritmo:  1.20. Erro média:  1.69.\n",
            "Linha    88. Erro algoritmo:  0.93. Erro média:  0.94.\n",
            "Linha    89. Erro algoritmo:  1.08. Erro média:  1.19.\n",
            "Linha    90. Erro algoritmo:  0.83. Erro média:  0.75.\n",
            "Linha    91. Erro algoritmo:  0.69. Erro média:  0.79.\n",
            "Linha    92. Erro algoritmo:  0.87. Erro média:  1.11.\n",
            "Linha    93. Erro algoritmo:  0.38. Erro média:  0.55.\n",
            "Linha    94. Erro algoritmo:  0.50. Erro média:  0.89.\n",
            "Linha    95. Erro algoritmo:  0.89. Erro média:  1.25.\n",
            "Linha    96. Erro algoritmo:  0.33. Erro média:  0.47.\n",
            "Linha    97. Erro algoritmo:  1.55. Erro média:  2.79.\n",
            "Linha    98. Erro algoritmo:  1.08. Erro média:  1.08.\n",
            "Linha    99. Erro algoritmo:  0.77. Erro média:  0.68.\n",
            "--------------------------------------------------------------------------------\n",
            "Fim do treinamento!\n",
            "--------------------------------------------------------------------------------\n",
            "Erro algoritmo:  0.91. Erro média:  1.02.\n",
            "--------------------------------------------------------------------------------\n",
            "Tempo total decorrido:   17 minutos.\n"
          ],
          "name": "stdout"
        }
      ]
    },
    {
      "cell_type": "markdown",
      "metadata": {
        "id": "_mbHO4Dnn2Bc",
        "colab_type": "text"
      },
      "source": [
        "## Observações sobre os testes:\n",
        "\n",
        "\n",
        "\n"
      ]
    },
    {
      "cell_type": "markdown",
      "metadata": {
        "id": "RC128oxv3gLE",
        "colab_type": "text"
      },
      "source": [
        "1.   Tanto o erro calculado considerando a recomendação do algoritmo, como o calculado com a recomendação da média no conjunto de treinamento foram realizados utilizando a distância não usual mencionada anteriormente. Porém como as duas recomendações não possuem valor zero, a distância usual se equivale a distância proposta. \n",
        "\n",
        "2.   Coloquei lado a lado o erro do algoritmo com o erro da recomedação média para mostrar realmente que o algoritmo supera algo trivial como a média em boa parte dos casos. Sendo a média uma espécie de ponto de partida para mostrar que um algoritmo de recomendação está além do óbvio.\n",
        "\n",
        "3. O fato de em alguns casos o algoritmo ser inferior a média não invalida a proposta do algoritmo, só mostra que nem todos os usuários podem ser avaliados pelos usuários semelhantes ao seu perfil. São os outliers que em todo tipo de algoritmo de recomendação estarão presentes. Um outro motivo para esse tipo de erro pode ser o número pequeno de comparações feitas no algoritmo.\n",
        "\n",
        "4. Como nesses teste1 e teste2 não estou interessado na recomendação em si, mas apenas no erro do algoritmo e sua comparação com a média, omiti a matriz de recomendação. Se tiver interessado ness ponto vá ao teste0.\n",
        "\n",
        "5.  No teste1, para os 100 usuários com mais avaliações a precisão foi muito boa, superando a média em 0.13 e em quase todas as linhas o algoritmo superou a recomendação da média. Isso se deve a grande quantidade de dados disponível.\n",
        "\n",
        "6. No teste2, para os 100 usuários escolhidos aleatoriamente a precisão do algoritmo foi boa e superou a recomedação da média como resposta ao final, porém olhando linha por linha verificamos que em mais casos que no teste1, o algoritmo foi pior que a média.\n",
        "\n",
        "7. Esses dois testes nos mostram que sim, é possível utilizar a semelhança entre usuários para captar o perfil de um usuário e fazer recomendações. \n",
        "\n",
        "8. Mesmo que o erro calculado na utilização do algoritmo não seja muito diferente da média, os resultados encontrados na literatura também não são muito distantes da média, além disso talvez mais importante que o erro em si, seja a ordenação dos filmes testados por usuário e essa ordenação vai ser muito diferente de um usuário para outro se utilizarmos o algorimo, ao contrário da recomendaçao da média.\n",
        "\n",
        "9. Em comparação com o sistema de recomendação utilizando auto-encoders, o algoritmo proposto não precisa de nenhum treinamento prévio e pode ser feito para um único usuário instantaneamente. Porém como envolve muitas comparações leva mais tempo que a simples aplicação de uma rede neural em um vetor de avaliações."
      ]
    },
    {
      "cell_type": "markdown",
      "metadata": {
        "id": "snABPbHTgDWg",
        "colab_type": "text"
      },
      "source": [
        "#7. Objetivos futuros\n",
        "\n",
        "\n",
        "\n",
        "\n",
        "\n"
      ]
    },
    {
      "cell_type": "markdown",
      "metadata": {
        "id": "yHD147x3t_Vi",
        "colab_type": "text"
      },
      "source": [
        "1.   Aplicação do algoritmo em outros bancos\n",
        "2.   Estudo dos melhores parâmetros a serem utilizados no algoritmo de acordo com as especificações do banco\n",
        "3. Estudo dos melhores parâmetros a serem utilizados no algoritmo de acordo com as especificações do usuário\n",
        "4. Otimização do processo de recomendação\n",
        "5. Implementação de uma versão robusta do algoritmo proposto e de fácil utilização \n",
        "6. Comparação do tempo levado para recomendação utilizando o algoritmo proposto e outros algoritmos encontrados na literatura\n",
        "7. Implementação de um programa interativo que dada uma avaliação de um usuário apresentada on-line recomenda novos filmes para esse usuário do banco de dados em questão.\n",
        "8. Investigação de outros critérios para medir a precisão de algoritmos de recomendação.\n",
        "9. Investigação da utilização de algoritmos de recomendação para outros processos diferentes de recomendação.\n",
        "\n"
      ]
    }
  ]
}